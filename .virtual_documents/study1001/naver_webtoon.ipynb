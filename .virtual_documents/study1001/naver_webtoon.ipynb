


























import pandas as pd
import numpy as np
import matplotlib.pyplot as plt
import seaborn as sns
from statsmodels.graphics.mosaicplot import mosaic  
import scipy.stats as spst
from matplotlib import font_manager, rc

# 한글 폰트 설정 (예: 'Malgun Gothic')
font_path = "C:/Windows/Fonts/malgun.ttf"  # 사용자의 운영체제에 설치된 한글 폰트 경로
font_name = font_manager.FontProperties(fname=font_path).get_name()
rc('font', family=font_name)

# 마이너스 폰트 설정 (깨지는 현상 방지)
plt.rcParams['axes.unicode_minus'] = False








# 수치형 변수에 대한 단변량 분석 함수
def eda_1_n(data, var, bins = 30) :
    # 기초 통계량
    display(data[[var]].describe().T)

    # 시각화
    plt.figure(figsize = (12,8))
    plt.subplot(2,1,1)
    sns.histplot(data[var], bins = bins, kde = True)
    plt.grid()

    plt.subplot(2,1,2)
    sns.boxplot(x = data[var])
    plt.grid()
    plt.show()


# 범주형 변수에 대한 단변량 분석 함수
def eda_1_c(data, var) :
    # 기초 통계량
    print(f' <<<  {var}   >>')
    cnt = data[var].value_counts()
    prop = data[var].value_counts()/data.shape[0]
    temp = pd.DataFrame({'Class':cnt.index, 'Count':cnt.values, 'Prop':prop.values})
    display(temp)
    # 시각화
    sns.countplot(x = var, data = data)
    plt.xticks(rotation=45)
    plt.grid()
    plt.show()








def eda_2_nn(data, feature, target) :
    # 상관분석
    result = spst.pearsonr(data[feature], data[target])
    print(f'상관계수 : {result[0]}, P-value : {result[1]}')

    # 산점도
    temp = data.loc[data[feature].notnull()]
    sns.scatterplot( x= feature, y = target, data = temp)
    plt.grid()
    plt.show()



def eda_2_cn(data, feature, target) :

    # 가설검정
    # 범주의 수 확인
    cat = data[feature].unique()
    n = len(cat)

    # 범주가 2개
    if n == 2 :
        g0 = data.loc[data[feature] == cat[0], target]
        g1 = data.loc[data[feature] == cat[1], target]
        result = spst.ttest_ind(g0, g1)
    else :
        result = spst.f_oneway(*[data.loc[data[feature] == c, target] for c in cat])

    print(result)

    # 시각화 : 평균비교 막대그래프
    sns.barplot(x = feature, y = target, data = data)
    plt.grid()
    plt.show()





def eda_2_nc(data, target, var) :

    plt.figure(figsize = (8,6))
    plt.subplot(2,1,1)
    sns.kdeplot(x=var, data = data, hue =target, common_norm=False)
    plt.xlim(data[var].min(), data[var].max())
    plt.grid()

    plt.subplot(2,1,2)
    sns.kdeplot(x=var, data = data, hue =target, multiple='fill')
    plt.axhline(data[target].mean(), color = 'r')
    plt.xlim(data[var].min(), data[var].max())
    plt.grid()

    plt.tight_layout()
    plt.show()


def eda_2_cc(data, target, var) :

    print(data[target].mean())

    temp1 = pd.crosstab(data[target], data[var])
    display(temp1)
    temp2 = pd.crosstab(data[target], data[var], normalize = 'columns')
    display(temp2)

    mosaic(data, [ var,target], gap = 0.01)
    plt.axhline(1-data[target].mean(), color = 'r')
    plt.show()

    # 카이제곱검정
    print(spst.chi2_contingency(temp1))





naver = pd.read_csv('naver.csv')


naver_c = pd.read_csv('naver_challenge.csv')








# 데이터 하위 5개 확인
naver.tail()


naver.shape


# 데이터 정보 확인
naver.info()





# age 결측치 확인
naver.loc[naver['age'].isna()]


naver['age'].isna().sum()


print(naver['age'].value_counts())
print(naver['age'].value_counts(normalize=True))





# 크게 장르- 대분류, 장르- 소분류로 나눌 수 있을 것 같다.
print(naver['genre'].value_counts())
print(naver['genre'].value_counts(normalize=True))


# 'genre'를 대분류와 소분류로 나누는 코드 (영어 사용)
naver['Major Category'] = naver['genre'].str.split(',').str[0].str.strip() 
naver['Minor Category'] = naver['genre'].str.split(',').str[1].str.strip()

# 'genre' 컬럼 삭제
naver.drop('genre',axis=1, inplace=True)

naver.columns


naver.head()


naver = naver.drop(columns = ['date','description','link'],axis=1)


naver.groupby(['Major Category'], as_index=False)['age'].agg(lambda x: x.mode()[0])


naver.groupby(['Minor Category'], as_index=False)['age'].agg(lambda x: x.mode()[0])


naver.groupby(['Major Category','Minor Category'], as_index=False)['age'].agg(lambda x: x.mode()[0])


for (major_category, minor_category), group in naver.groupby(['Major Category', 'Minor Category']):
    if not group['age'].mode().empty:  # 최빈값이 존재하는 경우
        mode_age = group['age'].mode()[0]  # 각 그룹의 최빈값 계산
        naver.loc[(naver['Major Category'] == major_category) & (naver['Minor Category'] == minor_category), 'age'] = group['age'].fillna(mode_age)


print(naver['age'].value_counts())
print(naver['age'].value_counts(normalize=True))





naver_c.tail()


naver_c.shape


# 데이터 정보 확인
naver_c.info()








# 장르가 영어고, 심지어 2개인 장르들이 많다
naver_c['genre'].value_counts()


# genre 나누기
naver_c['genre_1'] = naver_c['genre'].str.split(',').str[0].str.strip() 
naver_c['genre_2'] = naver_c['genre'].str.split(',').str[1].str.strip()

naver_c.columns


# naver_c의 Major와 동일 -> 스토리\n\n 수정 필요!
naver_c['format'].value_counts()


naver_c['format'] = naver_c['format'].replace('스토리\n\n','스토리')


naver_c


naver_c = naver_c.drop(columns = ['summary','description','link'],axis=1)








eda_1_n(naver,'rating')








naver.head()


# completed 단변량 분석
eda_1_c(naver, 'completed')


eda_2_cn(naver, 'completed', 'rating')








# completed 단변량 분석
eda_1_c(naver, 'Minor Category')


eda_2_cn(naver, 'Minor Category', 'rating')








# free 단변량 분석
eda_1_c(naver, 'free')


# age 단변량 분석
eda_1_c(naver, 'age')


eda_2_cc(naver,'free','age')














naver_c.head()


eda_1_c(naver_c,'potenup')





eda_2_cn(naver_c,'potenup','rating')











eda_1_c(naver_c,'genre_1')


eda_2_cc(naver_c,'serial','genre_1')








eda_1_c(naver_c,'genre')


eda_2_cc(naver_c,'serial','genre')








eda_1_c(naver_c,'format')


eda_2_cc(naver_c,'serial','format')











test_1 = naver_c.copy()


test_1.head()


test_1.rename(columns={'rating':'rating_c'}, inplace=True)


test_1['genre_1'].value_counts()


# k = {'daily':'일상','fantasy':'판타지','drama':'드라마','comic':'개그','pure':'로맨스','action':'액션','thrill':'스릴러','sensibility':'감성','sports':'스포츠','historical':'무협/사극'}

# test_1['genre'] = test_1['genre'].replace(k)
# test_1['genre_1'] = test_1['genre_1'].replace(k)
# test_1['genre_2'] = test_1['genre_2'].replace(k)


# test_1['genre_k'] = test_1[['genre_1', 'genre_2']].apply(lambda x: ', '.join(x.dropna().astype(str)), axis=1)


# test_1['genre_k'].value_counts()


test_1


test_2 = naver.copy()


test_2['Minor Category'].value_counts()


test_2.head()


test_1 = test_1[['title','rating_c']]
test_2 = test_2[['title','rating']]


test_3 = pd.merge(test_2, test_1, how='inner', on='title' )
test_3


eda_2_nn(test_3,'rating_c','rating')



