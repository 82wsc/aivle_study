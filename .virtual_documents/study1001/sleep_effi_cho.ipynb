











import pandas as pd
import numpy as np
import matplotlib.pyplot as plt
import seaborn as sns
from statsmodels.graphics.mosaicplot import mosaic  
import scipy.stats as spst





data = pd.read_csv('Sleep_Efficiency.csv')





# 데이터 상위 5개 확인
data.head()


data.shape


# 데이터 정보 확인
data.info()














data[['Sleep efficiency']].describe()


# 서브 플롯 설정
fig, axs = plt.subplots(1, 2, figsize=(12, 5))

# KDE 플롯
sns.kdeplot(data['Sleep efficiency'], ax=axs[0])
axs[0].set_title('KDE of Sleep Efficiency')
axs[0].set_xlabel('Sleep Efficiency')
axs[0].set_ylabel('Density')

# 0.85 기준선 추가
axs[0].axvline(x=0.85, color='r', linestyle='--', label='0.85 Threshold')
axs[0].legend()

# 박스 플롯
axs[1].boxplot(data['Sleep efficiency'], vert=False)
axs[1].set_title('Boxplot of Sleep Efficiency')
axs[1].set_xlabel('Sleep Efficiency')
axs[1].grid()

# 0.85 기준선 추가
axs[1].axvline(x=0.85, color='r', linestyle='--', label='0.85 Threshold')
axs[1].legend()

# 플롯 표시
plt.tight_layout()
plt.show()









# 범주화
data['High Sleep Efficiency'] = np.where(data['Sleep efficiency']>=0.85,1,0)


data.head()


# 범주 개수 확인
data['High Sleep Efficiency'].value_counts()


# 범주 비율 확인
data['High Sleep Efficiency'].value_counts() / len(data['High Sleep Efficiency'])


sns.countplot(x='High Sleep Efficiency', data=data)
plt.show()








sns.scatterplot( x='Age', y='Sleep efficiency', data = data)
plt.show()





spst.pearsonr(data['Age'], data['Sleep efficiency'])








temp = data[['Age','High Sleep Efficiency']]


# 길어서 target으로 변수 선언
target ='High Sleep Efficiency'


sns.kdeplot(x='Age', data = data, hue =target)
plt.show()


sns.kdeplot(x='Age', data = data, hue = target, multiple = 'fill')
plt.axhline(data[target].mean(), color = 'r')
plt.show()











# 데이터 확인
data['Bedtime']


# object -> datetime
data['Bedtime'] = pd.to_datetime(data['Bedtime'])


data['Bedtime'].info()


# 시간만 추출
data['Time']=data['Bedtime'].dt.time


data['Time']


# 시간대 정렬
sorted_times = sorted(data['Time'], key=lambda x: (x.hour, x.minute, x.second))





# 시간대 분포 확인
sns.countplot(x='Time', data=data, order=sorted_times)
plt.xticks(rotation=45)
plt.show()


# 취침 시간과 수면효율간 관계확인
sns.barplot(x='Time',y='Sleep efficiency',data=data ,order=sorted_times)
plt.xticks(rotation=45)
plt.show()








# 취침 "시간"만 추출
data['Hour']=data['Bedtime'].dt.hour


# 개수 확인
data['Hour'].value_counts()


# 비율 확인
data['Hour'].value_counts()/ len(data['Hour'])


# 시간 순서대로 정렬할 리스트 생성
sorted_hours = [21, 22, 23, 0, 1, 2]


sns.barplot(x='Hour',y='Sleep efficiency',data=data, order=sorted_hours)
plt.xticks(rotation=45)
plt.show()








# 취침시간과 수면효율(범주)간 교차표
pd.crosstab(data[target], data['Hour'])


data['Hour'].info()


# 1) 분산 분석을 위한 데이터 만들기
# NaN 행 제외
temp = data.loc[data['Sleep efficiency'].notnull()]
# 그룹별 저장
h_21 = temp.loc[temp.Hour == 21, 'Sleep efficiency']
h_22 = temp.loc[temp.Hour == 22, 'Sleep efficiency']
h_23 = temp.loc[temp.Hour == 23, 'Sleep efficiency']
h_0 = temp.loc[temp.Hour == 0, 'Sleep efficiency']
h_1 = temp.loc[temp.Hour == 1, 'Sleep efficiency']
h_2 = temp.loc[temp.Hour == 2, 'Sleep efficiency']


spst.f_oneway(h_21, h_22, h_23, h_0, h_1, h_2)








table = pd.crosstab(data['Hour'],data[target])
table


mosaic(data, ['Hour',target])
plt.axhline(data[target].mean(),color='r')
plt.show()





# 카이제곱검정
result = spst.chi2_contingency(table)
print('카이제곱통계량', result[0])
print('p-value', result[1])
print('자유도', result[2])











# 결측치 존재 한번 더 확인
data['Caffeine consumption'].info()


data['Caffeine consumption'].value_counts()


data['Caffeine consumption'].describe()


plt.hist(x='Caffeine consumption', data = data ,edgecolor = 'black')
plt.show()


sns.countplot(x='Caffeine consumption', data=data)
plt.grid()
plt.show()


data[['Caffeine consumption',target]].loc[data['Caffeine consumption'].isna()]


len(data[['Caffeine consumption',target]].loc[data['Caffeine consumption'].isna()])





data['Caffeine consumption'] = data['Caffeine consumption'].fillna(data['Caffeine consumption'].median())


data['Caffeine consumption'].isna().sum()











# 범주화
data['Caffeine_category'] = np.where(data['Alcohol consumption'] == 0.0, 0, 1)


data['Caffeine_category'].value_counts()





sns.barplot(x='Caffeine_category' ,y='Sleep efficiency', data=data)





take = data.loc[data['Caffeine_category']==1,'Sleep efficiency']
n_take = data.loc[data['Caffeine_category']==0,'Sleep efficiency']


spst.ttest_ind(n_take,take)





sns.barplot(x='Caffeine consumption' ,y='Sleep efficiency', data=data)


data.loc[data['Caffeine consumption']==100]





# NaN 행 제외
temp = data.loc[data['Sleep efficiency'].notnull()]
temp.head()
# 그룹별 저장
c_0 = temp.loc[temp['Caffeine consumption'] == 0.0, 'Sleep efficiency']
c_25 = temp.loc[temp['Caffeine consumption'] == 25.0, 'Sleep efficiency']
c_50 = temp.loc[temp['Caffeine consumption'] == 50.0, 'Sleep efficiency']
c_75 = temp.loc[temp['Caffeine consumption'] == 75.0, 'Sleep efficiency']
c_100= temp.loc[temp['Caffeine consumption'] == 100.0, 'Sleep efficiency']
c_200= temp.loc[temp['Caffeine consumption'] == 200.0, 'Sleep efficiency']
# 하면서 느낀점: 사전에 int 타입으로 변경할걸..


spst.f_oneway(c_0, c_25, c_50, c_75, c_100, c_200)








table = pd.crosstab(data['Caffeine consumption'],data[target])
table


mosaic(data, ['Caffeine consumption',target])
plt.axhline(data[target].mean(),color='r')
plt.show()





# 카이제곱검정
result = spst.chi2_contingency(table)
print('카이제곱통계량', result[0])
print('p-value', result[1])
print('자유도', result[2])





table = pd.crosstab(data['Caffeine_category'],data[target])
table


mosaic(data, ['Caffeine_category',target])
plt.axhline(data[target].mean(),color='r')
plt.show()


# 카이제곱검정
result = spst.chi2_contingency(table)
print('카이제곱통계량', result[0])
print('p-value', result[1])
print('자유도', result[2])











# 결측치 존재 한번 더 확인
data['Alcohol consumption'].info()


data['Alcohol consumption'].describe()


data['Alcohol consumption'].value_counts()


data['Alcohol consumption'].mode()


# 결측치를 최빈값으로 채우기
data['Alcohol consumption'].fillna(data['Alcohol consumption'].mode()[0], inplace=True)


data['Alcohol consumption'] = data['Alcohol consumption'].astype(int)


data['Alcohol consumption'].isna().sum()


plt.hist(x='Alcohol consumption', data = data ,edgecolor = 'black',bins= [0,1,2,3,4,5,6])
plt.show()





sns.barplot(x='Alcohol consumption' ,y='Sleep efficiency', data=data)





# NaN 행 제외
temp = data.loc[data['Sleep efficiency'].notnull()]
temp.head()
# 그룹별 저장
a_0 = temp.loc[temp['Alcohol consumption'] == 0, 'Sleep efficiency']
a_1 = temp.loc[temp['Alcohol consumption'] == 1, 'Sleep efficiency']
a_2 = temp.loc[temp['Alcohol consumption'] == 2, 'Sleep efficiency']
a_3 = temp.loc[temp['Alcohol consumption'] == 3, 'Sleep efficiency']
a_4 = temp.loc[temp['Alcohol consumption'] == 4, 'Sleep efficiency']
a_5 = temp.loc[temp['Alcohol consumption'] == 5, 'Sleep efficiency']
# 하면서 느낀점: 사전에 int 타입으로 변경할걸..


spst.f_oneway(a_0, a_1, a_2, a_3, a_4, a_5)








data['Alcohol_category'] = np.where(data['Alcohol consumption'] == 0, 0, 1)


data['Alcohol_category'].value_counts()


sns.barplot(x='Alcohol_category' ,y='Sleep efficiency', data=data)





take = data.loc[data['Alcohol_category']==1,'Sleep efficiency']
n_take = data.loc[data['Alcohol_category']==0,'Sleep efficiency']


spst.ttest_ind(n_take,take)








table = pd.crosstab(data['Alcohol consumption'],data[target])
table


mosaic(data, ['Alcohol consumption',target])
plt.axhline(data[target].mean(),color='r')
plt.show()





# 카이제곱검정
result = spst.chi2_contingency(table)
print('카이제곱통계량', result[0])
print('p-value', result[1])
print('자유도', result[2])





table = pd.crosstab(data['Alcohol_category'],data[target])
table


mosaic(data, ['Alcohol_category',target])
plt.axhline(data[target].mean(),color='r')
plt.show()


# 카이제곱검정
result = spst.chi2_contingency(table)
print('카이제곱통계량', result[0])
print('p-value', result[1])
print('자유도', result[2])








data['Smoking status'].info()


data['Smoking status'].value_counts()





sns.barplot(x='Smoking status' ,y='Sleep efficiency', data=data)





smoke = data.loc[data['Smoking status']=='Yes','Sleep efficiency']
n_smoke = data.loc[data['Smoking status']=='No','Sleep efficiency']


spst.ttest_ind(n_smoke,smoke)








table = pd.crosstab(data['Smoking status'],data[target])
table


mosaic(data, ['Smoking status',target])
plt.axhline(data[target].mean(),color='r')
plt.show()


# 카이제곱검정
result = spst.chi2_contingency(table)
print('카이제곱통계량', result[0])
print('p-value', result[1])
print('자유도', result[2])











# 결측치 존재
data['Exercise frequency'].info()


data['Exercise frequency'].describe()


data['Exercise frequency'].value_counts()


plt.hist(x='Exercise frequency', data = data ,edgecolor = 'black',bins= [0,1,2,3,4,5,6])
plt.show()


sns.boxplot(x='Exercise frequency', data=data)


# 중위값 2로 결측치 처리
data['Exercise frequency'].fillna(data['Exercise frequency'].median(), inplace=True)


data['Exercise frequency'].isna().sum()


data['Exercise frequency'] = data['Exercise frequency'].astype(int)


data['Exercise frequency'].dtype





sns.barplot(x='Exercise frequency' ,y='Sleep efficiency', data=data)
plt.axhline(data['Sleep efficiency'].mean(),color='r')





# NaN 행 제외
temp = data.loc[data['Sleep efficiency'].notnull()]
temp.head()
# 그룹별 저장
e_0 = temp.loc[temp['Exercise frequency'] == 0, 'Sleep efficiency']
e_1 = temp.loc[temp['Exercise frequency'] == 1, 'Sleep efficiency']
e_2 = temp.loc[temp['Exercise frequency'] == 2, 'Sleep efficiency']
e_3 = temp.loc[temp['Exercise frequency'] == 3, 'Sleep efficiency']
e_4 = temp.loc[temp['Exercise frequency'] == 4, 'Sleep efficiency']
e_5 = temp.loc[temp['Exercise frequency'] == 5, 'Sleep efficiency']
# 하면서 느낀점: 사전에 int 타입으로 변경할걸..


spst.f_oneway(a_0, a_1, a_2, a_3, a_4, a_5)








data['Exercise_category'] = np.where(data['Exercise frequency'] == 0, 0, 1)


sns.barplot(x='Exercise_category' ,y='Sleep efficiency', data=data)
plt.axhline(data['Sleep efficiency'].mean(),color='r')





exer = data.loc[data['Exercise_category']==1,'Sleep efficiency']
n_exer = data.loc[data['Exercise_category']==0,'Sleep efficiency']


spst.ttest_ind(n_exer,exer)








table = pd.crosstab(data['Exercise frequency'],data[target])
table


mosaic(data, ['Exercise frequency',target])
plt.axhline(data[target].mean(),color='r')
plt.show()





# 카이제곱검정
result = spst.chi2_contingency(table)
print('카이제곱통계량', result[0])
print('p-value', result[1])
print('자유도', result[2])





table = pd.crosstab(data['Exercise_category'],data[target])
table


mosaic(data, ['Exercise_category',target])
plt.axhline(data[target].mean(),color='r')
plt.show()





# 카이제곱검정
result = spst.chi2_contingency(table)
print('카이제곱통계량', result[0])
print('p-value', result[1])
print('자유도', result[2])












