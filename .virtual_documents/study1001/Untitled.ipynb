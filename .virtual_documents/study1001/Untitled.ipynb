


























import pandas as pd
import numpy as np
import matplotlib.pyplot as plt
import seaborn as sns
from statsmodels.graphics.mosaicplot import mosaic  
import scipy.stats as spst
from matplotlib import font_manager, rc

# 한글 폰트 설정 (예: 'Malgun Gothic')
font_path = "C:/Windows/Fonts/malgun.ttf"  # 사용자의 운영체제에 설치된 한글 폰트 경로
font_name = font_manager.FontProperties(fname=font_path).get_name()
rc('font', family=font_name)

# 마이너스 폰트 설정 (깨지는 현상 방지)
plt.rcParams['axes.unicode_minus'] = False





# 수치형 변수에 대한 단변량 분석 함수
def eda_1_n(data, var, bins = 30) :
    # 기초 통계량
    display(data[[var]].describe().T)

    # 시각화
    plt.figure(figsize = (12,8))
    plt.subplot(2,1,1)
    sns.histplot(data[var], bins = bins, kde = True)
    plt.grid()

    plt.subplot(2,1,2)
    sns.boxplot(x = data[var])
    plt.grid()
    plt.show()


# 범주형 변수에 대한 단변량 분석 함수
def eda_1_c(data, var) :
    # 기초 통계량
    print(f' <<<  {var}   >>')
    cnt = data[var].value_counts()
    prop = data[var].value_counts()/data.shape[0]
    temp = pd.DataFrame({'Class':cnt.index, 'Count':cnt.values, 'Prop':prop.values})
    display(temp)
    # 시각화
    sns.countplot(x = var, data = data)
    plt.grid()
    plt.show()





naver = pd.read_csv('naver.csv')


naver_c = pd.read_csv('naver_challenge.csv')








# 데이터 하위 5개 확인
naver.tail()


naver.shape


# 데이터 정보 확인
naver.info()





# age 결측치 확인
naver.loc[naver['age'].isna()]


naver['age'].isna().sum()


print(naver['age'].value_counts())
print(naver['age'].value_counts(normalize=True))





# 크게 장르- 대분류, 장르- 소분류로 나눌 수 있을 것 같다.
print(naver['genre'].value_counts())
print(naver['genre'].value_counts(normalize=True))


# 'genre'를 대분류와 소분류로 나누는 코드 (영어 사용)
naver['Major Category'] = naver['genre'].str.split(',').str[0].str.strip() 
naver['Minor Category'] = naver['genre'].str.split(',').str[1].str.strip()

# 'genre' 컬럼 삭제
naver.drop('genre',axis=1, inplace=True)

naver.columns


naver.head()


naver.groupby(['Major Category'], as_index=False)['age'].agg(lambda x: x.mode()[0])


naver.groupby(['Minor Category'], as_index=False)['age'].agg(lambda x: x.mode()[0])


naver.groupby(['Major Category','Minor Category'], as_index=False)['age'].agg(lambda x: x.mode()[0])


for (major_category, minor_category), group in naver.groupby(['Major Category', 'Minor Category']):
    if not group['age'].mode().empty:  # 최빈값이 존재하는 경우
        mode_age = group['age'].mode()[0]  # 각 그룹의 최빈값 계산
        naver.loc[(naver['Major Category'] == major_category) & (naver['Minor Category'] == minor_category), 'age'] = group['age'].fillna(mode_age)


print(naver['age'].value_counts())
print(naver['age'].value_counts(normalize=True))





naver_c.tail()


naver_c.shape


# 데이터 정보 확인
naver_c.info()








# 장르가 영어고, 심지어 2개인 장르들이 많다
naver_c['genre'].value_counts()


# genre 나누기
naver_c['genre_1'] = naver_c['genre'].str.split(',').str[0].str.strip() 
naver_c['genre_2'] = naver_c['genre'].str.split(',').str[1].str.strip()

# 'genre' 컬럼 삭제
naver_c.drop('genre',axis=1, inplace=True)

naver_c.columns


naver_c['genre_2'].isna().sum()


# naver_c의 Major와 동일 -> 스토리\n\n 수정 필요!
naver_c['format'].value_counts()















