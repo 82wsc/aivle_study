import pandas as pd
import numpy as np
import matplotlib.pyplot as plt
import seaborn as sns
# =========================================
from sklearn.impute import KNNImputer





data = pd.read_csv('Sleep_Efficiency.csv')


data.head()


data.shape


data.info()








# KNNImputer 사용위한 전처리


# Gender 
# female: 0 / male: 1
data['Gender'].replace({'Female':0,'Male':1},inplace = True)


data['Gender'].value_counts()


# Bedtime
# 시간만 남기기
data['Bedtime'] = pd.to_datetime(data['Bedtime'])


# 시간만 추출
data['Bedtime']=data['Bedtime'].dt.time


data['Bedtime'].value_counts()


type(data['Bedtime'])


# Waketime
# 시간만 남기기
data['Wakeup time'] = pd.to_datetime(data['Wakeup time'])


# 시간만 추출
data['Wakeup time']=data['Wakeup time'].dt.time





# Smoking Status
# No: 0, Yes: 1





data.isna().sum()





data['Awakenings'].value_counts()


sns.countplot(x='Awakenings', data=data)
plt.show()


data['Awakenings'].isna().sum()


imputer = KNNImputer(n_neighbors = 5)


data = imputer.fit_transform(data)



























