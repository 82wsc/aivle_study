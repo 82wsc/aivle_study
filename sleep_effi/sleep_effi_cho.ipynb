{
 "cells": [
  {
   "cell_type": "markdown",
   "id": "de520b3f-5b5f-4da3-bd8e-d9b679f0ba08",
   "metadata": {},
   "source": [
    "# Sleep Efficiency Dataset 수면 효율 분석"
   ]
  },
  {
   "cell_type": "markdown",
   "id": "cd70282d-57cb-43ae-816c-ff7043c5403f",
   "metadata": {},
   "source": [
    "# 가설 목록"
   ]
  },
  {
   "cell_type": "markdown",
   "id": "8d159ae2-c304-44a8-b6a0-8b71b797d8d4",
   "metadata": {},
   "source": [
    "## 가설\n",
    "1. 젊을 수록 수면 효율이 높을 것이다.\r\n",
    "2. 일찍 취침할 수록 수면 효율이 높을 것이다.\r\n",
    "3. 카페인을 적게 마실수록 수면 효율이 높을 것이다.\r\n",
    "4. 알코올을 적게 마실수록 수면 효율이 높을 것이다.\r\n",
    "5. 비흡연자가 수면 효율이 높을 것이다.\r\n",
    "6. 운동을 자주 할 수록 수면 높을것이다.\n"
   ]
  },
  {
   "cell_type": "markdown",
   "id": "0511ff2f-93e4-4542-8b76-80d97fee39ac",
   "metadata": {},
   "source": [
    "# 라이브러리 불러오기"
   ]
  },
  {
   "cell_type": "code",
   "execution_count": 5,
   "id": "166f7110-6b53-4c23-8b01-5e64274d61e5",
   "metadata": {},
   "outputs": [],
   "source": [
    "import pandas as pd\n",
    "import numpy as np\n",
    "import matplotlib.pyplot as plt\n",
    "import seaborn as sns\n",
    "from statsmodels.graphics.mosaicplot import mosaic  \n",
    "import scipy.stats as spst"
   ]
  },
  {
   "cell_type": "markdown",
   "id": "bbe93a1a-030f-49ae-8750-9d47f385cc76",
   "metadata": {},
   "source": [
    "# 데이터 불러오기"
   ]
  },
  {
   "cell_type": "code",
   "execution_count": 7,
   "id": "c1d29c15-5a7b-4507-8a88-75231028aff8",
   "metadata": {},
   "outputs": [],
   "source": [
    "data = pd.read_csv('Sleep_Efficiency.csv')"
   ]
  },
  {
   "cell_type": "markdown",
   "id": "90641137-1151-478b-8e82-7e4329ff32d4",
   "metadata": {},
   "source": [
    "# 데이터 확인"
   ]
  },
  {
   "cell_type": "code",
   "execution_count": 9,
   "id": "e9054bc4-6773-4418-b47b-78892504c638",
   "metadata": {},
   "outputs": [
    {
     "data": {
      "text/html": [
       "<div>\n",
       "<style scoped>\n",
       "    .dataframe tbody tr th:only-of-type {\n",
       "        vertical-align: middle;\n",
       "    }\n",
       "\n",
       "    .dataframe tbody tr th {\n",
       "        vertical-align: top;\n",
       "    }\n",
       "\n",
       "    .dataframe thead th {\n",
       "        text-align: right;\n",
       "    }\n",
       "</style>\n",
       "<table border=\"1\" class=\"dataframe\">\n",
       "  <thead>\n",
       "    <tr style=\"text-align: right;\">\n",
       "      <th></th>\n",
       "      <th>ID</th>\n",
       "      <th>Age</th>\n",
       "      <th>Gender</th>\n",
       "      <th>Bedtime</th>\n",
       "      <th>Wakeup time</th>\n",
       "      <th>Sleep duration</th>\n",
       "      <th>Sleep efficiency</th>\n",
       "      <th>REM sleep percentage</th>\n",
       "      <th>Deep sleep percentage</th>\n",
       "      <th>Light sleep percentage</th>\n",
       "      <th>Awakenings</th>\n",
       "      <th>Caffeine consumption</th>\n",
       "      <th>Alcohol consumption</th>\n",
       "      <th>Smoking status</th>\n",
       "      <th>Exercise frequency</th>\n",
       "    </tr>\n",
       "  </thead>\n",
       "  <tbody>\n",
       "    <tr>\n",
       "      <th>0</th>\n",
       "      <td>1</td>\n",
       "      <td>65</td>\n",
       "      <td>Female</td>\n",
       "      <td>2021-03-06 01:00:00</td>\n",
       "      <td>2021-03-06 07:00:00</td>\n",
       "      <td>6.0</td>\n",
       "      <td>0.88</td>\n",
       "      <td>18</td>\n",
       "      <td>70</td>\n",
       "      <td>12</td>\n",
       "      <td>0.0</td>\n",
       "      <td>0.0</td>\n",
       "      <td>0.0</td>\n",
       "      <td>Yes</td>\n",
       "      <td>3.0</td>\n",
       "    </tr>\n",
       "    <tr>\n",
       "      <th>1</th>\n",
       "      <td>2</td>\n",
       "      <td>69</td>\n",
       "      <td>Male</td>\n",
       "      <td>2021-12-05 02:00:00</td>\n",
       "      <td>2021-12-05 09:00:00</td>\n",
       "      <td>7.0</td>\n",
       "      <td>0.66</td>\n",
       "      <td>19</td>\n",
       "      <td>28</td>\n",
       "      <td>53</td>\n",
       "      <td>3.0</td>\n",
       "      <td>0.0</td>\n",
       "      <td>3.0</td>\n",
       "      <td>Yes</td>\n",
       "      <td>3.0</td>\n",
       "    </tr>\n",
       "    <tr>\n",
       "      <th>2</th>\n",
       "      <td>3</td>\n",
       "      <td>40</td>\n",
       "      <td>Female</td>\n",
       "      <td>2021-05-25 21:30:00</td>\n",
       "      <td>2021-05-25 05:30:00</td>\n",
       "      <td>8.0</td>\n",
       "      <td>0.89</td>\n",
       "      <td>20</td>\n",
       "      <td>70</td>\n",
       "      <td>10</td>\n",
       "      <td>1.0</td>\n",
       "      <td>0.0</td>\n",
       "      <td>0.0</td>\n",
       "      <td>No</td>\n",
       "      <td>3.0</td>\n",
       "    </tr>\n",
       "    <tr>\n",
       "      <th>3</th>\n",
       "      <td>4</td>\n",
       "      <td>40</td>\n",
       "      <td>Female</td>\n",
       "      <td>2021-11-03 02:30:00</td>\n",
       "      <td>2021-11-03 08:30:00</td>\n",
       "      <td>6.0</td>\n",
       "      <td>0.51</td>\n",
       "      <td>23</td>\n",
       "      <td>25</td>\n",
       "      <td>52</td>\n",
       "      <td>3.0</td>\n",
       "      <td>50.0</td>\n",
       "      <td>5.0</td>\n",
       "      <td>Yes</td>\n",
       "      <td>1.0</td>\n",
       "    </tr>\n",
       "    <tr>\n",
       "      <th>4</th>\n",
       "      <td>5</td>\n",
       "      <td>57</td>\n",
       "      <td>Male</td>\n",
       "      <td>2021-03-13 01:00:00</td>\n",
       "      <td>2021-03-13 09:00:00</td>\n",
       "      <td>8.0</td>\n",
       "      <td>0.76</td>\n",
       "      <td>27</td>\n",
       "      <td>55</td>\n",
       "      <td>18</td>\n",
       "      <td>3.0</td>\n",
       "      <td>0.0</td>\n",
       "      <td>3.0</td>\n",
       "      <td>No</td>\n",
       "      <td>3.0</td>\n",
       "    </tr>\n",
       "  </tbody>\n",
       "</table>\n",
       "</div>"
      ],
      "text/plain": [
       "   ID  Age  Gender              Bedtime          Wakeup time  Sleep duration  \\\n",
       "0   1   65  Female  2021-03-06 01:00:00  2021-03-06 07:00:00             6.0   \n",
       "1   2   69    Male  2021-12-05 02:00:00  2021-12-05 09:00:00             7.0   \n",
       "2   3   40  Female  2021-05-25 21:30:00  2021-05-25 05:30:00             8.0   \n",
       "3   4   40  Female  2021-11-03 02:30:00  2021-11-03 08:30:00             6.0   \n",
       "4   5   57    Male  2021-03-13 01:00:00  2021-03-13 09:00:00             8.0   \n",
       "\n",
       "   Sleep efficiency  REM sleep percentage  Deep sleep percentage  \\\n",
       "0              0.88                    18                     70   \n",
       "1              0.66                    19                     28   \n",
       "2              0.89                    20                     70   \n",
       "3              0.51                    23                     25   \n",
       "4              0.76                    27                     55   \n",
       "\n",
       "   Light sleep percentage  Awakenings  Caffeine consumption  \\\n",
       "0                      12         0.0                   0.0   \n",
       "1                      53         3.0                   0.0   \n",
       "2                      10         1.0                   0.0   \n",
       "3                      52         3.0                  50.0   \n",
       "4                      18         3.0                   0.0   \n",
       "\n",
       "   Alcohol consumption Smoking status  Exercise frequency  \n",
       "0                  0.0            Yes                 3.0  \n",
       "1                  3.0            Yes                 3.0  \n",
       "2                  0.0             No                 3.0  \n",
       "3                  5.0            Yes                 1.0  \n",
       "4                  3.0             No                 3.0  "
      ]
     },
     "execution_count": 9,
     "metadata": {},
     "output_type": "execute_result"
    }
   ],
   "source": [
    "# 데이터 상위 5개 확인\n",
    "data.head()"
   ]
  },
  {
   "cell_type": "code",
   "execution_count": 10,
   "id": "2cc9ae89-77b3-4537-b878-bb1805f5df6a",
   "metadata": {},
   "outputs": [
    {
     "data": {
      "text/plain": [
       "(452, 15)"
      ]
     },
     "execution_count": 10,
     "metadata": {},
     "output_type": "execute_result"
    }
   ],
   "source": [
    "data.shape"
   ]
  },
  {
   "cell_type": "code",
   "execution_count": 11,
   "id": "0eecf12f-bef8-4a27-bb5a-d88c8feab2f8",
   "metadata": {},
   "outputs": [
    {
     "name": "stdout",
     "output_type": "stream",
     "text": [
      "<class 'pandas.core.frame.DataFrame'>\n",
      "RangeIndex: 452 entries, 0 to 451\n",
      "Data columns (total 15 columns):\n",
      " #   Column                  Non-Null Count  Dtype  \n",
      "---  ------                  --------------  -----  \n",
      " 0   ID                      452 non-null    int64  \n",
      " 1   Age                     452 non-null    int64  \n",
      " 2   Gender                  452 non-null    object \n",
      " 3   Bedtime                 452 non-null    object \n",
      " 4   Wakeup time             452 non-null    object \n",
      " 5   Sleep duration          452 non-null    float64\n",
      " 6   Sleep efficiency        452 non-null    float64\n",
      " 7   REM sleep percentage    452 non-null    int64  \n",
      " 8   Deep sleep percentage   452 non-null    int64  \n",
      " 9   Light sleep percentage  452 non-null    int64  \n",
      " 10  Awakenings              432 non-null    float64\n",
      " 11  Caffeine consumption    427 non-null    float64\n",
      " 12  Alcohol consumption     438 non-null    float64\n",
      " 13  Smoking status          452 non-null    object \n",
      " 14  Exercise frequency      446 non-null    float64\n",
      "dtypes: float64(6), int64(5), object(4)\n",
      "memory usage: 53.1+ KB\n"
     ]
    }
   ],
   "source": [
    "# 데이터 정보 확인\n",
    "data.info()"
   ]
  },
  {
   "cell_type": "markdown",
   "id": "45a14d3c-0bc5-4a24-9e61-98601b5abbd1",
   "metadata": {},
   "source": [
    "1. ID: 각 시험 과목에 대한 고유 식별자\r\n",
    "2. Age: 피험자의 연령\r\n",
    "3. Gender: 남성 또는 여성\r\n",
    "4. Bedtime: 피험자가 매일 밤 잠자리에 드는 시간\r\n",
    "5. Wakeup time: 피험자가 매일 아침 깨어나는 시간\r\n",
    "6. Sleep duration: 피험자가 수면을 취한 총 시간\r\n",
    "7. Sleep efficiency:  침대에서 보낸 시간 중 실제로 수면에 소요된 시간의 비율\r\n",
    "8. REM sleep percentage: 렘수면에 소요된 총 수면 시간의 백분율\r\n",
    "9. Deep sleep percentage: 깊은 숙면에 소요된 총 수면 시간의 백분율\r\n",
    "10. Light sleep percentage: 가벼운 수면에 소요된 총 수면 시간의 백분율\r\n",
    "11. Awakenings**: 피험자가 밤에 깨어나는 횟수\r\n",
    "12. Caffeine consumption: 취침 전 24시간 동안 섭취한 카페인의 양(mg)\r\n",
    "13. Alcohol consumption: 취침 전 24시간 동안 섭취한 알코올의 양(온스)\r\n",
    "14. Smoking status: 피험자의 흡연 여부\r\n",
    "15. Exercise frequency: 피험자가 매주 운동하는 횟수 \r\n",
    "\r\n",
    "target: Sleep efficiency\r\n"
   ]
  },
  {
   "cell_type": "markdown",
   "id": "a45a2da2-d7ee-4dca-94a9-e9605ff8b8e2",
   "metadata": {},
   "source": [
    "- Awakenings / Caffeine consumption / Alcohol consumption / Smoking status /Exercise frequency 결측치 확인"
   ]
  },
  {
   "cell_type": "markdown",
   "id": "a7300586-7aa6-4a46-9bc9-5a2ca67e3e09",
   "metadata": {},
   "source": [
    "## target 변수 확인 및 기준 설정"
   ]
  },
  {
   "attachments": {
    "f47ee7a2-9826-4e5a-b15f-3496ba7d113d.png": {
     "image/png": "[encoded data removed]"
    }
   },
   "cell_type": "markdown",
   "id": "ec0d864a-638c-44c1-bac8-f0d5749ba27f",
   "metadata": {
    "jp-MarkdownHeadingCollapsed": true
   },
   "source": [
    "![image.png](attachment:f47ee7a2-9826-4e5a-b15f-3496ba7d113d.png)\n",
    "- 참조: https://www.psychiatricnews.net/news/articleView.html?idxno=22169"
   ]
  },
  {
   "cell_type": "code",
   "execution_count": 16,
   "id": "bcb0990a-0140-41c4-a8e4-c1dff33b56bd",
   "metadata": {},
   "outputs": [
    {
     "data": {
      "text/html": [
       "<div>\n",
       "<style scoped>\n",
       "    .dataframe tbody tr th:only-of-type {\n",
       "        vertical-align: middle;\n",
       "    }\n",
       "\n",
       "    .dataframe tbody tr th {\n",
       "        vertical-align: top;\n",
       "    }\n",
       "\n",
       "    .dataframe thead th {\n",
       "        text-align: right;\n",
       "    }\n",
       "</style>\n",
       "<table border=\"1\" class=\"dataframe\">\n",
       "  <thead>\n",
       "    <tr style=\"text-align: right;\">\n",
       "      <th></th>\n",
       "      <th>Sleep efficiency</th>\n",
       "    </tr>\n",
       "  </thead>\n",
       "  <tbody>\n",
       "    <tr>\n",
       "      <th>count</th>\n",
       "      <td>452.000000</td>\n",
       "    </tr>\n",
       "    <tr>\n",
       "      <th>mean</th>\n",
       "      <td>0.788916</td>\n",
       "    </tr>\n",
       "    <tr>\n",
       "      <th>std</th>\n",
       "      <td>0.135237</td>\n",
       "    </tr>\n",
       "    <tr>\n",
       "      <th>min</th>\n",
       "      <td>0.500000</td>\n",
       "    </tr>\n",
       "    <tr>\n",
       "      <th>25%</th>\n",
       "      <td>0.697500</td>\n",
       "    </tr>\n",
       "    <tr>\n",
       "      <th>50%</th>\n",
       "      <td>0.820000</td>\n",
       "    </tr>\n",
       "    <tr>\n",
       "      <th>75%</th>\n",
       "      <td>0.900000</td>\n",
       "    </tr>\n",
       "    <tr>\n",
       "      <th>max</th>\n",
       "      <td>0.990000</td>\n",
       "    </tr>\n",
       "  </tbody>\n",
       "</table>\n",
       "</div>"
      ],
      "text/plain": [
       "       Sleep efficiency\n",
       "count        452.000000\n",
       "mean           0.788916\n",
       "std            0.135237\n",
       "min            0.500000\n",
       "25%            0.697500\n",
       "50%            0.820000\n",
       "75%            0.900000\n",
       "max            0.990000"
      ]
     },
     "execution_count": 16,
     "metadata": {},
     "output_type": "execute_result"
    }
   ],
   "source": [
    "data[['Sleep efficiency']].describe()"
   ]
  },
  {
   "cell_type": "code",
   "execution_count": 17,
   "id": "7ced8923-748c-4721-8e01-ada5d4436c73",
   "metadata": {},
   "outputs": [
    {
     "data": {
      "image/png": "[encoded data removed]",
      "text/plain": [
       "<Figure size 1200x500 with 2 Axes>"
      ]
     },
     "metadata": {},
     "output_type": "display_data"
    }
   ],
   "source": [
    "# 서브 플롯 설정\n",
    "fig, axs = plt.subplots(1, 2, figsize=(12, 5))\n",
    "\n",
    "# KDE 플롯\n",
    "sns.kdeplot(data['Sleep efficiency'], ax=axs[0])\n",
    "axs[0].set_title('KDE of Sleep Efficiency')\n",
    "axs[0].set_xlabel('Sleep Efficiency')\n",
    "axs[0].set_ylabel('Density')\n",
    "\n",
    "# 0.85 기준선 추가\n",
    "axs[0].axvline(x=0.85, color='r', linestyle='--', label='0.85 Threshold')\n",
    "axs[0].legend()\n",
    "\n",
    "# 박스 플롯\n",
    "axs[1].boxplot(data['Sleep efficiency'], vert=False)\n",
    "axs[1].set_title('Boxplot of Sleep Efficiency')\n",
    "axs[1].set_xlabel('Sleep Efficiency')\n",
    "axs[1].grid()\n",
    "\n",
    "# 0.85 기준선 추가\n",
    "axs[1].axvline(x=0.85, color='r', linestyle='--', label='0.85 Threshold')\n",
    "axs[1].legend()\n",
    "\n",
    "# 플롯 표시\n",
    "plt.tight_layout()\n",
    "plt.show()\n"
   ]
  },
  {
   "cell_type": "markdown",
   "id": "312473ea-d49b-4ba4-8403-ffe25e92d143",
   "metadata": {},
   "source": [
    "# 가설 검증"
   ]
  },
  {
   "cell_type": "markdown",
   "id": "ff34be17-9481-4d18-935a-2e378985e591",
   "metadata": {},
   "source": [
    "## 고민!\n",
    "1. 이변량: 수치->수치로 검증\n",
    "2. 이변량: 수치->범주로 검증 (85% 이상: 1(True)/0(False)로 범주화 할 것인지?)\n",
    "\n",
    "- 고민이니까 둘 다 한다!\n",
    "\n",
    "- 고민해결! 범주화했을 때, 높은 수면 효율로 판단!"
   ]
  },
  {
   "cell_type": "code",
   "execution_count": 20,
   "id": "846f2963-8db4-4c02-b368-103e0b523f85",
   "metadata": {},
   "outputs": [],
   "source": [
    "# 범주화\n",
    "data['High Sleep Efficiency'] = np.where(data['Sleep efficiency']>=0.85,1,0)"
   ]
  },
  {
   "cell_type": "code",
   "execution_count": 21,
   "id": "311e1063-871a-4ded-94d9-a3d9cd471d4e",
   "metadata": {},
   "outputs": [
    {
     "data": {
      "text/html": [
       "<div>\n",
       "<style scoped>\n",
       "    .dataframe tbody tr th:only-of-type {\n",
       "        vertical-align: middle;\n",
       "    }\n",
       "\n",
       "    .dataframe tbody tr th {\n",
       "        vertical-align: top;\n",
       "    }\n",
       "\n",
       "    .dataframe thead th {\n",
       "        text-align: right;\n",
       "    }\n",
       "</style>\n",
       "<table border=\"1\" class=\"dataframe\">\n",
       "  <thead>\n",
       "    <tr style=\"text-align: right;\">\n",
       "      <th></th>\n",
       "      <th>ID</th>\n",
       "      <th>Age</th>\n",
       "      <th>Gender</th>\n",
       "      <th>Bedtime</th>\n",
       "      <th>Wakeup time</th>\n",
       "      <th>Sleep duration</th>\n",
       "      <th>Sleep efficiency</th>\n",
       "      <th>REM sleep percentage</th>\n",
       "      <th>Deep sleep percentage</th>\n",
       "      <th>Light sleep percentage</th>\n",
       "      <th>Awakenings</th>\n",
       "      <th>Caffeine consumption</th>\n",
       "      <th>Alcohol consumption</th>\n",
       "      <th>Smoking status</th>\n",
       "      <th>Exercise frequency</th>\n",
       "      <th>High Sleep Efficiency</th>\n",
       "    </tr>\n",
       "  </thead>\n",
       "  <tbody>\n",
       "    <tr>\n",
       "      <th>0</th>\n",
       "      <td>1</td>\n",
       "      <td>65</td>\n",
       "      <td>Female</td>\n",
       "      <td>2021-03-06 01:00:00</td>\n",
       "      <td>2021-03-06 07:00:00</td>\n",
       "      <td>6.0</td>\n",
       "      <td>0.88</td>\n",
       "      <td>18</td>\n",
       "      <td>70</td>\n",
       "      <td>12</td>\n",
       "      <td>0.0</td>\n",
       "      <td>0.0</td>\n",
       "      <td>0.0</td>\n",
       "      <td>Yes</td>\n",
       "      <td>3.0</td>\n",
       "      <td>1</td>\n",
       "    </tr>\n",
       "    <tr>\n",
       "      <th>1</th>\n",
       "      <td>2</td>\n",
       "      <td>69</td>\n",
       "      <td>Male</td>\n",
       "      <td>2021-12-05 02:00:00</td>\n",
       "      <td>2021-12-05 09:00:00</td>\n",
       "      <td>7.0</td>\n",
       "      <td>0.66</td>\n",
       "      <td>19</td>\n",
       "      <td>28</td>\n",
       "      <td>53</td>\n",
       "      <td>3.0</td>\n",
       "      <td>0.0</td>\n",
       "      <td>3.0</td>\n",
       "      <td>Yes</td>\n",
       "      <td>3.0</td>\n",
       "      <td>0</td>\n",
       "    </tr>\n",
       "    <tr>\n",
       "      <th>2</th>\n",
       "      <td>3</td>\n",
       "      <td>40</td>\n",
       "      <td>Female</td>\n",
       "      <td>2021-05-25 21:30:00</td>\n",
       "      <td>2021-05-25 05:30:00</td>\n",
       "      <td>8.0</td>\n",
       "      <td>0.89</td>\n",
       "      <td>20</td>\n",
       "      <td>70</td>\n",
       "      <td>10</td>\n",
       "      <td>1.0</td>\n",
       "      <td>0.0</td>\n",
       "      <td>0.0</td>\n",
       "      <td>No</td>\n",
       "      <td>3.0</td>\n",
       "      <td>1</td>\n",
       "    </tr>\n",
       "    <tr>\n",
       "      <th>3</th>\n",
       "      <td>4</td>\n",
       "      <td>40</td>\n",
       "      <td>Female</td>\n",
       "      <td>2021-11-03 02:30:00</td>\n",
       "      <td>2021-11-03 08:30:00</td>\n",
       "      <td>6.0</td>\n",
       "      <td>0.51</td>\n",
       "      <td>23</td>\n",
       "      <td>25</td>\n",
       "      <td>52</td>\n",
       "      <td>3.0</td>\n",
       "      <td>50.0</td>\n",
       "      <td>5.0</td>\n",
       "      <td>Yes</td>\n",
       "      <td>1.0</td>\n",
       "      <td>0</td>\n",
       "    </tr>\n",
       "    <tr>\n",
       "      <th>4</th>\n",
       "      <td>5</td>\n",
       "      <td>57</td>\n",
       "      <td>Male</td>\n",
       "      <td>2021-03-13 01:00:00</td>\n",
       "      <td>2021-03-13 09:00:00</td>\n",
       "      <td>8.0</td>\n",
       "      <td>0.76</td>\n",
       "      <td>27</td>\n",
       "      <td>55</td>\n",
       "      <td>18</td>\n",
       "      <td>3.0</td>\n",
       "      <td>0.0</td>\n",
       "      <td>3.0</td>\n",
       "      <td>No</td>\n",
       "      <td>3.0</td>\n",
       "      <td>0</td>\n",
       "    </tr>\n",
       "  </tbody>\n",
       "</table>\n",
       "</div>"
      ],
      "text/plain": [
       "   ID  Age  Gender              Bedtime          Wakeup time  Sleep duration  \\\n",
       "0   1   65  Female  2021-03-06 01:00:00  2021-03-06 07:00:00             6.0   \n",
       "1   2   69    Male  2021-12-05 02:00:00  2021-12-05 09:00:00             7.0   \n",
       "2   3   40  Female  2021-05-25 21:30:00  2021-05-25 05:30:00             8.0   \n",
       "3   4   40  Female  2021-11-03 02:30:00  2021-11-03 08:30:00             6.0   \n",
       "4   5   57    Male  2021-03-13 01:00:00  2021-03-13 09:00:00             8.0   \n",
       "\n",
       "   Sleep efficiency  REM sleep percentage  Deep sleep percentage  \\\n",
       "0              0.88                    18                     70   \n",
       "1              0.66                    19                     28   \n",
       "2              0.89                    20                     70   \n",
       "3              0.51                    23                     25   \n",
       "4              0.76                    27                     55   \n",
       "\n",
       "   Light sleep percentage  Awakenings  Caffeine consumption  \\\n",
       "0                      12         0.0                   0.0   \n",
       "1                      53         3.0                   0.0   \n",
       "2                      10         1.0                   0.0   \n",
       "3                      52         3.0                  50.0   \n",
       "4                      18         3.0                   0.0   \n",
       "\n",
       "   Alcohol consumption Smoking status  Exercise frequency  \\\n",
       "0                  0.0            Yes                 3.0   \n",
       "1                  3.0            Yes                 3.0   \n",
       "2                  0.0             No                 3.0   \n",
       "3                  5.0            Yes                 1.0   \n",
       "4                  3.0             No                 3.0   \n",
       "\n",
       "   High Sleep Efficiency  \n",
       "0                      1  \n",
       "1                      0  \n",
       "2                      1  \n",
       "3                      0  \n",
       "4                      0  "
      ]
     },
     "execution_count": 21,
     "metadata": {},
     "output_type": "execute_result"
    }
   ],
   "source": [
    "data.head()"
   ]
  },
  {
   "cell_type": "code",
   "execution_count": 22,
   "id": "7cfbdebd-8847-4e3f-94b8-aea56c8c2e51",
   "metadata": {
    "scrolled": true
   },
   "outputs": [
    {
     "data": {
      "text/plain": [
       "High Sleep Efficiency\n",
       "0    251\n",
       "1    201\n",
       "Name: count, dtype: int64"
      ]
     },
     "execution_count": 22,
     "metadata": {},
     "output_type": "execute_result"
    }
   ],
   "source": [
    "# 범주 개수 확인\n",
    "data['High Sleep Efficiency'].value_counts()"
   ]
  },
  {
   "cell_type": "code",
   "execution_count": 23,
   "id": "b2a6f8ca-568a-4212-8f00-ed12fd19099f",
   "metadata": {},
   "outputs": [
    {
     "data": {
      "text/plain": [
       "High Sleep Efficiency\n",
       "0    0.55531\n",
       "1    0.44469\n",
       "Name: count, dtype: float64"
      ]
     },
     "execution_count": 23,
     "metadata": {},
     "output_type": "execute_result"
    }
   ],
   "source": [
    "# 범주 비율 확인\n",
    "data['High Sleep Efficiency'].value_counts() / len(data['High Sleep Efficiency'])"
   ]
  },
  {
   "cell_type": "code",
   "execution_count": 24,
   "id": "b4b5c44a-e6bc-4ade-8096-75f3ea2db507",
   "metadata": {},
   "outputs": [
    {
     "data": {
      "image/png": "[encoded data removed]",
      "text/plain": [
       "<Figure size 640x480 with 1 Axes>"
      ]
     },
     "metadata": {},
     "output_type": "display_data"
    }
   ],
   "source": [
    "sns.countplot(x='High Sleep Efficiency', data=data)\n",
    "plt.show()"
   ]
  },
  {
   "cell_type": "markdown",
   "id": "6f7a543d-8cf1-43e9-b823-f3c1abc04864",
   "metadata": {},
   "source": [
    "## 1. 젊을수록 수면 효율이 높을 것이다. \n",
    "- Feature: 'Age'\n",
    "- Target: 'Sleep efficiency'"
   ]
  },
  {
   "cell_type": "markdown",
   "id": "cf776021-eee0-4079-922e-78c21aee3fd2",
   "metadata": {},
   "source": [
    "### 1) 수치 -> 수치"
   ]
  },
  {
   "cell_type": "code",
   "execution_count": 27,
   "id": "b9198cf2-c2ec-4d38-be53-09df29d4aeda",
   "metadata": {},
   "outputs": [
    {
     "data": {
      "image/png": "[encoded data removed]",
      "text/plain": [
       "<Figure size 640x480 with 1 Axes>"
      ]
     },
     "metadata": {},
     "output_type": "display_data"
    }
   ],
   "source": [
    "sns.scatterplot( x='Age', y='Sleep efficiency', data = data)\n",
    "plt.show()"
   ]
  },
  {
   "cell_type": "markdown",
   "id": "179f8382-a037-4265-ab05-8f69ab49d69a",
   "metadata": {},
   "source": [
    "- scatter plot 상으로는 유의미한 관계를 확인하기 어렵다!"
   ]
  },
  {
   "cell_type": "code",
   "execution_count": 29,
   "id": "e101078a-5961-4891-a997-cd471fec4b47",
   "metadata": {},
   "outputs": [
    {
     "data": {
      "text/plain": [
       "PearsonRResult(statistic=0.09835669021700894, pvalue=0.03658434926283932)"
      ]
     },
     "execution_count": 29,
     "metadata": {},
     "output_type": "execute_result"
    }
   ],
   "source": [
    "spst.pearsonr(data['Age'], data['Sleep efficiency'])"
   ]
  },
  {
   "cell_type": "markdown",
   "id": "3f891e05-ade4-4e4a-b802-1eeb988ae234",
   "metadata": {},
   "source": [
    "- 나이와 수면 효율간에는 유의미하지만 매우 약한 양의 상관 관계를 가진다. "
   ]
  },
  {
   "cell_type": "markdown",
   "id": "95ef17fa-d799-4fdf-b827-b0de3b1eb956",
   "metadata": {},
   "source": [
    "### 2) 수치 -> 범주"
   ]
  },
  {
   "cell_type": "code",
   "execution_count": 32,
   "id": "8cbccb39-3ff6-4570-a05e-3422139bf31b",
   "metadata": {},
   "outputs": [],
   "source": [
    "temp = data[['Age','High Sleep Efficiency']]"
   ]
  },
  {
   "cell_type": "code",
   "execution_count": 33,
   "id": "894fbedb-0bbc-48d1-8996-2b176121aaf5",
   "metadata": {},
   "outputs": [],
   "source": [
    "# 길어서 target으로 변수 선언\n",
    "target ='High Sleep Efficiency'"
   ]
  },
  {
   "cell_type": "code",
   "execution_count": 34,
   "id": "9c80668f-bba1-4635-9b1d-390acfc1ad7a",
   "metadata": {},
   "outputs": [
    {
     "data": {
      "image/png": "[encoded data removed]",
      "text/plain": [
       "<Figure size 640x480 with 1 Axes>"
      ]
     },
     "metadata": {},
     "output_type": "display_data"
    }
   ],
   "source": [
    "sns.kdeplot(x='Age', data = data, hue =target)\n",
    "plt.show()"
   ]
  },
  {
   "cell_type": "code",
   "execution_count": 35,
   "id": "5f0129d4-2fa9-4204-ae09-110300a69581",
   "metadata": {},
   "outputs": [
    {
     "data": {
      "image/png": "[encoded data removed]",
      "text/plain": [
       "<Figure size 640x480 with 1 Axes>"
      ]
     },
     "metadata": {},
     "output_type": "display_data"
    }
   ],
   "source": [
    "sns.kdeplot(x='Age', data = data, hue = target, multiple = 'fill')\n",
    "plt.axhline(data[target].mean(), color = 'r')\n",
    "plt.show()"
   ]
  },
  {
   "cell_type": "markdown",
   "id": "7daf093d-6bba-4904-81c8-9ece1a4b0083",
   "metadata": {},
   "source": [
    "- 20대 후반까지는 \"높은\" 수면 효율 비율이 낮다.\n",
    "- 20대 후반부터 50대 후반까지 \"높은\" 수면 효율이 높다\n",
    "- 50대 후반부터는 \"높은\" 수면 효율이 감소하는 경향을 보인다"
   ]
  },
  {
   "cell_type": "markdown",
   "id": "0e8662d9-184f-46d7-bbea-8edaa2b3f5e2",
   "metadata": {},
   "source": [
    "* 사실 청년층, 노년층 세대별로 나눠 범주 -> 범주도 가능하다...\n",
    "* 양이 많아서 봐준다."
   ]
  },
  {
   "cell_type": "markdown",
   "id": "246638d2-6af7-44b3-8ed9-c5e6c04d86a3",
   "metadata": {},
   "source": [
    "## 2. 일찍 취침할 수록 수면 효율이 높을 것이다.\n",
    "- Feature: 'Bedtime'\n",
    "- Target: 'Sleep efficiency'"
   ]
  },
  {
   "cell_type": "code",
   "execution_count": 39,
   "id": "ffc5f8c5-579b-4add-b2b4-32f61442f955",
   "metadata": {},
   "outputs": [
    {
     "data": {
      "text/plain": [
       "0      2021-03-06 01:00:00\n",
       "1      2021-12-05 02:00:00\n",
       "2      2021-05-25 21:30:00\n",
       "3      2021-11-03 02:30:00\n",
       "4      2021-03-13 01:00:00\n",
       "              ...         \n",
       "447    2021-11-13 22:00:00\n",
       "448    2021-03-31 21:00:00\n",
       "449    2021-09-07 23:00:00\n",
       "450    2021-07-29 21:00:00\n",
       "451    2021-03-17 02:30:00\n",
       "Name: Bedtime, Length: 452, dtype: object"
      ]
     },
     "execution_count": 39,
     "metadata": {},
     "output_type": "execute_result"
    }
   ],
   "source": [
    "# 데이터 확인\n",
    "data['Bedtime']"
   ]
  },
  {
   "cell_type": "code",
   "execution_count": 40,
   "id": "34aa498c-c4d2-4ca1-b772-5b56039feda6",
   "metadata": {},
   "outputs": [],
   "source": [
    "# object -> datetime\n",
    "data['Bedtime'] = pd.to_datetime(data['Bedtime'])"
   ]
  },
  {
   "cell_type": "code",
   "execution_count": 41,
   "id": "203e26f7-9c1e-4d51-a5ba-cf4891b5a8b2",
   "metadata": {},
   "outputs": [
    {
     "name": "stdout",
     "output_type": "stream",
     "text": [
      "<class 'pandas.core.series.Series'>\n",
      "RangeIndex: 452 entries, 0 to 451\n",
      "Series name: Bedtime\n",
      "Non-Null Count  Dtype         \n",
      "--------------  -----         \n",
      "452 non-null    datetime64[ns]\n",
      "dtypes: datetime64[ns](1)\n",
      "memory usage: 3.7 KB\n"
     ]
    }
   ],
   "source": [
    "data['Bedtime'].info()"
   ]
  },
  {
   "cell_type": "code",
   "execution_count": 42,
   "id": "edcfdc54-a48d-4fba-9c25-ae457c81fc83",
   "metadata": {},
   "outputs": [],
   "source": [
    "# 시간만 추출\n",
    "data['Time']=data['Bedtime'].dt.time"
   ]
  },
  {
   "cell_type": "code",
   "execution_count": 317,
   "id": "e181cf7f-e4df-4835-b5c8-e8aaa931f6e0",
   "metadata": {
    "scrolled": true
   },
   "outputs": [
    {
     "name": "stdout",
     "output_type": "stream",
     "text": [
      "<class 'pandas.core.series.Series'>\n",
      "RangeIndex: 452 entries, 0 to 451\n",
      "Series name: Time\n",
      "Non-Null Count  Dtype \n",
      "--------------  ----- \n",
      "452 non-null    object\n",
      "dtypes: object(1)\n",
      "memory usage: 3.7+ KB\n"
     ]
    }
   ],
   "source": [
    "data['Time'].info()"
   ]
  },
  {
   "cell_type": "code",
   "execution_count": 44,
   "id": "db6e6466-53a9-4981-81ca-20e600464553",
   "metadata": {},
   "outputs": [],
   "source": [
    "# 시간대 정렬\n",
    "sorted_times = sorted(data['Time'], key=lambda x: (x.hour, x.minute, x.second))"
   ]
  },
  {
   "cell_type": "markdown",
   "id": "36abebc4-eb65-4b2a-8f8d-a08a05ff1bf1",
   "metadata": {},
   "source": [
    "### 범주 -> 수치 (1)"
   ]
  },
  {
   "cell_type": "code",
   "execution_count": 46,
   "id": "f256b850-966e-4dcc-88e4-b3c983187c38",
   "metadata": {},
   "outputs": [
    {
     "data": {
      "image/png": "[encoded data removed]",
      "text/plain": [
       "<Figure size 640x480 with 1 Axes>"
      ]
     },
     "metadata": {},
     "output_type": "display_data"
    }
   ],
   "source": [
    "# 시간대 분포 확인\n",
    "sns.countplot(x='Time', data=data, order=sorted_times)\n",
    "plt.xticks(rotation=45)\n",
    "plt.show()"
   ]
  },
  {
   "cell_type": "code",
   "execution_count": 47,
   "id": "b200e14d-f030-45d5-9525-dd44357ab098",
   "metadata": {},
   "outputs": [
    {
     "data": {
      "image/png": "[encoded data removed]",
      "text/plain": [
       "<Figure size 640x480 with 1 Axes>"
      ]
     },
     "metadata": {},
     "output_type": "display_data"
    }
   ],
   "source": [
    "# 취침 시간과 수면효율간 관계확인\n",
    "sns.barplot(x='Time',y='Sleep efficiency',data=data ,order=sorted_times)\n",
    "plt.xticks(rotation=45)\n",
    "plt.show()"
   ]
  },
  {
   "cell_type": "code",
   "execution_count": 351,
   "id": "4b2cb039-6176-44f6-92b4-c0601316ab82",
   "metadata": {},
   "outputs": [
    {
     "ename": "InvalidIndexError",
     "evalue": "0      False\n1      False\n2      False\n3      False\n4      False\n       ...  \n447    False\n448    False\n449    False\n450    False\n451    False\nName: Time, Length: 452, dtype: bool",
     "output_type": "error",
     "traceback": [
      "\u001b[1;31m---------------------------------------------------------------------------\u001b[0m",
      "\u001b[1;31mTypeError\u001b[0m                                 Traceback (most recent call last)",
      "File \u001b[1;32m~\\anaconda3\\Lib\\site-packages\\pandas\\core\\indexes\\base.py:3805\u001b[0m, in \u001b[0;36mIndex.get_loc\u001b[1;34m(self, key)\u001b[0m\n\u001b[0;32m   3804\u001b[0m \u001b[38;5;28;01mtry\u001b[39;00m:\n\u001b[1;32m-> 3805\u001b[0m     \u001b[38;5;28;01mreturn\u001b[39;00m \u001b[38;5;28mself\u001b[39m\u001b[38;5;241m.\u001b[39m_engine\u001b[38;5;241m.\u001b[39mget_loc(casted_key)\n\u001b[0;32m   3806\u001b[0m \u001b[38;5;28;01mexcept\u001b[39;00m \u001b[38;5;167;01mKeyError\u001b[39;00m \u001b[38;5;28;01mas\u001b[39;00m err:\n",
      "File \u001b[1;32mindex.pyx:167\u001b[0m, in \u001b[0;36mpandas._libs.index.IndexEngine.get_loc\u001b[1;34m()\u001b[0m\n",
      "File \u001b[1;32mindex.pyx:173\u001b[0m, in \u001b[0;36mpandas._libs.index.IndexEngine.get_loc\u001b[1;34m()\u001b[0m\n",
      "\u001b[1;31mTypeError\u001b[0m: '0      False\n1      False\n2      False\n3      False\n4      False\n       ...  \n447    False\n448    False\n449    False\n450    False\n451    False\nName: Time, Length: 452, dtype: bool' is an invalid key",
      "\nDuring handling of the above exception, another exception occurred:\n",
      "\u001b[1;31mInvalidIndexError\u001b[0m                         Traceback (most recent call last)",
      "Cell \u001b[1;32mIn[351], line 5\u001b[0m\n\u001b[0;32m      3\u001b[0m temp \u001b[38;5;241m=\u001b[39m data\u001b[38;5;241m.\u001b[39mloc[data[\u001b[38;5;124m'\u001b[39m\u001b[38;5;124mSleep efficiency\u001b[39m\u001b[38;5;124m'\u001b[39m]\u001b[38;5;241m.\u001b[39mnotnull()]\n\u001b[0;32m      4\u001b[0m \u001b[38;5;66;03m# 그룹별 저장\u001b[39;00m\n\u001b[1;32m----> 5\u001b[0m h_0000 \u001b[38;5;241m=\u001b[39m temp\u001b[38;5;241m.\u001b[39mloc[temp[\u001b[38;5;124m'\u001b[39m\u001b[38;5;124mTime\u001b[39m\u001b[38;5;124m'\u001b[39m] \u001b[38;5;241m==\u001b[39m \u001b[38;5;241m00\u001b[39m:\u001b[38;5;241m00\u001b[39m:\u001b[38;5;241m00\u001b[39m, \u001b[38;5;124m'\u001b[39m\u001b[38;5;124mSleep efficiency\u001b[39m\u001b[38;5;124m'\u001b[39m]\n\u001b[0;32m      6\u001b[0m h_2200 \u001b[38;5;241m=\u001b[39m temp\u001b[38;5;241m.\u001b[39mloc[temp[\u001b[38;5;124m'\u001b[39m\u001b[38;5;124mTime\u001b[39m\u001b[38;5;124m'\u001b[39m] \u001b[38;5;241m==\u001b[39m \u001b[38;5;241m22\u001b[39m:\u001b[38;5;241m00\u001b[39m:\u001b[38;5;241m00\u001b[39m, \u001b[38;5;124m'\u001b[39m\u001b[38;5;124mSleep efficiency\u001b[39m\u001b[38;5;124m'\u001b[39m]\n\u001b[0;32m      7\u001b[0m h_2300 \u001b[38;5;241m=\u001b[39m temp\u001b[38;5;241m.\u001b[39mloc[temp[\u001b[38;5;124m'\u001b[39m\u001b[38;5;124mTime\u001b[39m\u001b[38;5;124m'\u001b[39m] \u001b[38;5;241m==\u001b[39m \u001b[38;5;241m23\u001b[39m:\u001b[38;5;241m00\u001b[39m:\u001b[38;5;241m00\u001b[39m, \u001b[38;5;124m'\u001b[39m\u001b[38;5;124mSleep efficiency\u001b[39m\u001b[38;5;124m'\u001b[39m]\n",
      "File \u001b[1;32m~\\anaconda3\\Lib\\site-packages\\pandas\\core\\indexing.py:1184\u001b[0m, in \u001b[0;36m_LocationIndexer.__getitem__\u001b[1;34m(self, key)\u001b[0m\n\u001b[0;32m   1182\u001b[0m     \u001b[38;5;28;01mif\u001b[39;00m \u001b[38;5;28mself\u001b[39m\u001b[38;5;241m.\u001b[39m_is_scalar_access(key):\n\u001b[0;32m   1183\u001b[0m         \u001b[38;5;28;01mreturn\u001b[39;00m \u001b[38;5;28mself\u001b[39m\u001b[38;5;241m.\u001b[39mobj\u001b[38;5;241m.\u001b[39m_get_value(\u001b[38;5;241m*\u001b[39mkey, takeable\u001b[38;5;241m=\u001b[39m\u001b[38;5;28mself\u001b[39m\u001b[38;5;241m.\u001b[39m_takeable)\n\u001b[1;32m-> 1184\u001b[0m     \u001b[38;5;28;01mreturn\u001b[39;00m \u001b[38;5;28mself\u001b[39m\u001b[38;5;241m.\u001b[39m_getitem_tuple(key)\n\u001b[0;32m   1185\u001b[0m \u001b[38;5;28;01melse\u001b[39;00m:\n\u001b[0;32m   1186\u001b[0m     \u001b[38;5;66;03m# we by definition only have the 0th axis\u001b[39;00m\n\u001b[0;32m   1187\u001b[0m     axis \u001b[38;5;241m=\u001b[39m \u001b[38;5;28mself\u001b[39m\u001b[38;5;241m.\u001b[39maxis \u001b[38;5;129;01mor\u001b[39;00m \u001b[38;5;241m0\u001b[39m\n",
      "File \u001b[1;32m~\\anaconda3\\Lib\\site-packages\\pandas\\core\\indexing.py:1368\u001b[0m, in \u001b[0;36m_LocIndexer._getitem_tuple\u001b[1;34m(self, tup)\u001b[0m\n\u001b[0;32m   1366\u001b[0m \u001b[38;5;28;01mwith\u001b[39;00m suppress(IndexingError):\n\u001b[0;32m   1367\u001b[0m     tup \u001b[38;5;241m=\u001b[39m \u001b[38;5;28mself\u001b[39m\u001b[38;5;241m.\u001b[39m_expand_ellipsis(tup)\n\u001b[1;32m-> 1368\u001b[0m     \u001b[38;5;28;01mreturn\u001b[39;00m \u001b[38;5;28mself\u001b[39m\u001b[38;5;241m.\u001b[39m_getitem_lowerdim(tup)\n\u001b[0;32m   1370\u001b[0m \u001b[38;5;66;03m# no multi-index, so validate all of the indexers\u001b[39;00m\n\u001b[0;32m   1371\u001b[0m tup \u001b[38;5;241m=\u001b[39m \u001b[38;5;28mself\u001b[39m\u001b[38;5;241m.\u001b[39m_validate_tuple_indexer(tup)\n",
      "File \u001b[1;32m~\\anaconda3\\Lib\\site-packages\\pandas\\core\\indexing.py:1089\u001b[0m, in \u001b[0;36m_LocationIndexer._getitem_lowerdim\u001b[1;34m(self, tup)\u001b[0m\n\u001b[0;32m   1087\u001b[0m             \u001b[38;5;28;01mreturn\u001b[39;00m section\n\u001b[0;32m   1088\u001b[0m         \u001b[38;5;66;03m# This is an elided recursive call to iloc/loc\u001b[39;00m\n\u001b[1;32m-> 1089\u001b[0m         \u001b[38;5;28;01mreturn\u001b[39;00m \u001b[38;5;28mgetattr\u001b[39m(section, \u001b[38;5;28mself\u001b[39m\u001b[38;5;241m.\u001b[39mname)[new_key]\n\u001b[0;32m   1091\u001b[0m \u001b[38;5;28;01mraise\u001b[39;00m IndexingError(\u001b[38;5;124m\"\u001b[39m\u001b[38;5;124mnot applicable\u001b[39m\u001b[38;5;124m\"\u001b[39m)\n",
      "File \u001b[1;32m~\\anaconda3\\Lib\\site-packages\\pandas\\core\\indexing.py:1191\u001b[0m, in \u001b[0;36m_LocationIndexer.__getitem__\u001b[1;34m(self, key)\u001b[0m\n\u001b[0;32m   1189\u001b[0m maybe_callable \u001b[38;5;241m=\u001b[39m com\u001b[38;5;241m.\u001b[39mapply_if_callable(key, \u001b[38;5;28mself\u001b[39m\u001b[38;5;241m.\u001b[39mobj)\n\u001b[0;32m   1190\u001b[0m maybe_callable \u001b[38;5;241m=\u001b[39m \u001b[38;5;28mself\u001b[39m\u001b[38;5;241m.\u001b[39m_check_deprecated_callable_usage(key, maybe_callable)\n\u001b[1;32m-> 1191\u001b[0m \u001b[38;5;28;01mreturn\u001b[39;00m \u001b[38;5;28mself\u001b[39m\u001b[38;5;241m.\u001b[39m_getitem_axis(maybe_callable, axis\u001b[38;5;241m=\u001b[39maxis)\n",
      "File \u001b[1;32m~\\anaconda3\\Lib\\site-packages\\pandas\\core\\indexing.py:1411\u001b[0m, in \u001b[0;36m_LocIndexer._getitem_axis\u001b[1;34m(self, key, axis)\u001b[0m\n\u001b[0;32m   1409\u001b[0m \u001b[38;5;28;01mif\u001b[39;00m \u001b[38;5;28misinstance\u001b[39m(key, \u001b[38;5;28mslice\u001b[39m):\n\u001b[0;32m   1410\u001b[0m     \u001b[38;5;28mself\u001b[39m\u001b[38;5;241m.\u001b[39m_validate_key(key, axis)\n\u001b[1;32m-> 1411\u001b[0m     \u001b[38;5;28;01mreturn\u001b[39;00m \u001b[38;5;28mself\u001b[39m\u001b[38;5;241m.\u001b[39m_get_slice_axis(key, axis\u001b[38;5;241m=\u001b[39maxis)\n\u001b[0;32m   1412\u001b[0m \u001b[38;5;28;01melif\u001b[39;00m com\u001b[38;5;241m.\u001b[39mis_bool_indexer(key):\n\u001b[0;32m   1413\u001b[0m     \u001b[38;5;28;01mreturn\u001b[39;00m \u001b[38;5;28mself\u001b[39m\u001b[38;5;241m.\u001b[39m_getbool_axis(key, axis\u001b[38;5;241m=\u001b[39maxis)\n",
      "File \u001b[1;32m~\\anaconda3\\Lib\\site-packages\\pandas\\core\\indexing.py:1443\u001b[0m, in \u001b[0;36m_LocIndexer._get_slice_axis\u001b[1;34m(self, slice_obj, axis)\u001b[0m\n\u001b[0;32m   1440\u001b[0m     \u001b[38;5;28;01mreturn\u001b[39;00m obj\u001b[38;5;241m.\u001b[39mcopy(deep\u001b[38;5;241m=\u001b[39m\u001b[38;5;28;01mFalse\u001b[39;00m)\n\u001b[0;32m   1442\u001b[0m labels \u001b[38;5;241m=\u001b[39m obj\u001b[38;5;241m.\u001b[39m_get_axis(axis)\n\u001b[1;32m-> 1443\u001b[0m indexer \u001b[38;5;241m=\u001b[39m labels\u001b[38;5;241m.\u001b[39mslice_indexer(slice_obj\u001b[38;5;241m.\u001b[39mstart, slice_obj\u001b[38;5;241m.\u001b[39mstop, slice_obj\u001b[38;5;241m.\u001b[39mstep)\n\u001b[0;32m   1445\u001b[0m \u001b[38;5;28;01mif\u001b[39;00m \u001b[38;5;28misinstance\u001b[39m(indexer, \u001b[38;5;28mslice\u001b[39m):\n\u001b[0;32m   1446\u001b[0m     \u001b[38;5;28;01mreturn\u001b[39;00m \u001b[38;5;28mself\u001b[39m\u001b[38;5;241m.\u001b[39mobj\u001b[38;5;241m.\u001b[39m_slice(indexer, axis\u001b[38;5;241m=\u001b[39maxis)\n",
      "File \u001b[1;32m~\\anaconda3\\Lib\\site-packages\\pandas\\core\\indexes\\base.py:6662\u001b[0m, in \u001b[0;36mIndex.slice_indexer\u001b[1;34m(self, start, end, step)\u001b[0m\n\u001b[0;32m   6618\u001b[0m \u001b[38;5;28;01mdef\u001b[39;00m \u001b[38;5;21mslice_indexer\u001b[39m(\n\u001b[0;32m   6619\u001b[0m     \u001b[38;5;28mself\u001b[39m,\n\u001b[0;32m   6620\u001b[0m     start: Hashable \u001b[38;5;241m|\u001b[39m \u001b[38;5;28;01mNone\u001b[39;00m \u001b[38;5;241m=\u001b[39m \u001b[38;5;28;01mNone\u001b[39;00m,\n\u001b[0;32m   6621\u001b[0m     end: Hashable \u001b[38;5;241m|\u001b[39m \u001b[38;5;28;01mNone\u001b[39;00m \u001b[38;5;241m=\u001b[39m \u001b[38;5;28;01mNone\u001b[39;00m,\n\u001b[0;32m   6622\u001b[0m     step: \u001b[38;5;28mint\u001b[39m \u001b[38;5;241m|\u001b[39m \u001b[38;5;28;01mNone\u001b[39;00m \u001b[38;5;241m=\u001b[39m \u001b[38;5;28;01mNone\u001b[39;00m,\n\u001b[0;32m   6623\u001b[0m ) \u001b[38;5;241m-\u001b[39m\u001b[38;5;241m>\u001b[39m \u001b[38;5;28mslice\u001b[39m:\n\u001b[0;32m   6624\u001b[0m \u001b[38;5;250m    \u001b[39m\u001b[38;5;124;03m\"\"\"\u001b[39;00m\n\u001b[0;32m   6625\u001b[0m \u001b[38;5;124;03m    Compute the slice indexer for input labels and step.\u001b[39;00m\n\u001b[0;32m   6626\u001b[0m \n\u001b[1;32m   (...)\u001b[0m\n\u001b[0;32m   6660\u001b[0m \u001b[38;5;124;03m    slice(1, 3, None)\u001b[39;00m\n\u001b[0;32m   6661\u001b[0m \u001b[38;5;124;03m    \"\"\"\u001b[39;00m\n\u001b[1;32m-> 6662\u001b[0m     start_slice, end_slice \u001b[38;5;241m=\u001b[39m \u001b[38;5;28mself\u001b[39m\u001b[38;5;241m.\u001b[39mslice_locs(start, end, step\u001b[38;5;241m=\u001b[39mstep)\n\u001b[0;32m   6664\u001b[0m     \u001b[38;5;66;03m# return a slice\u001b[39;00m\n\u001b[0;32m   6665\u001b[0m     \u001b[38;5;28;01mif\u001b[39;00m \u001b[38;5;129;01mnot\u001b[39;00m is_scalar(start_slice):\n",
      "File \u001b[1;32m~\\anaconda3\\Lib\\site-packages\\pandas\\core\\indexes\\base.py:6879\u001b[0m, in \u001b[0;36mIndex.slice_locs\u001b[1;34m(self, start, end, step)\u001b[0m\n\u001b[0;32m   6877\u001b[0m start_slice \u001b[38;5;241m=\u001b[39m \u001b[38;5;28;01mNone\u001b[39;00m\n\u001b[0;32m   6878\u001b[0m \u001b[38;5;28;01mif\u001b[39;00m start \u001b[38;5;129;01mis\u001b[39;00m \u001b[38;5;129;01mnot\u001b[39;00m \u001b[38;5;28;01mNone\u001b[39;00m:\n\u001b[1;32m-> 6879\u001b[0m     start_slice \u001b[38;5;241m=\u001b[39m \u001b[38;5;28mself\u001b[39m\u001b[38;5;241m.\u001b[39mget_slice_bound(start, \u001b[38;5;124m\"\u001b[39m\u001b[38;5;124mleft\u001b[39m\u001b[38;5;124m\"\u001b[39m)\n\u001b[0;32m   6880\u001b[0m \u001b[38;5;28;01mif\u001b[39;00m start_slice \u001b[38;5;129;01mis\u001b[39;00m \u001b[38;5;28;01mNone\u001b[39;00m:\n\u001b[0;32m   6881\u001b[0m     start_slice \u001b[38;5;241m=\u001b[39m \u001b[38;5;241m0\u001b[39m\n",
      "File \u001b[1;32m~\\anaconda3\\Lib\\site-packages\\pandas\\core\\indexes\\base.py:6798\u001b[0m, in \u001b[0;36mIndex.get_slice_bound\u001b[1;34m(self, label, side)\u001b[0m\n\u001b[0;32m   6796\u001b[0m \u001b[38;5;66;03m# we need to look up the label\u001b[39;00m\n\u001b[0;32m   6797\u001b[0m \u001b[38;5;28;01mtry\u001b[39;00m:\n\u001b[1;32m-> 6798\u001b[0m     slc \u001b[38;5;241m=\u001b[39m \u001b[38;5;28mself\u001b[39m\u001b[38;5;241m.\u001b[39mget_loc(label)\n\u001b[0;32m   6799\u001b[0m \u001b[38;5;28;01mexcept\u001b[39;00m \u001b[38;5;167;01mKeyError\u001b[39;00m \u001b[38;5;28;01mas\u001b[39;00m err:\n\u001b[0;32m   6800\u001b[0m     \u001b[38;5;28;01mtry\u001b[39;00m:\n",
      "File \u001b[1;32m~\\anaconda3\\Lib\\site-packages\\pandas\\core\\indexes\\base.py:3817\u001b[0m, in \u001b[0;36mIndex.get_loc\u001b[1;34m(self, key)\u001b[0m\n\u001b[0;32m   3812\u001b[0m     \u001b[38;5;28;01mraise\u001b[39;00m \u001b[38;5;167;01mKeyError\u001b[39;00m(key) \u001b[38;5;28;01mfrom\u001b[39;00m \u001b[38;5;21;01merr\u001b[39;00m\n\u001b[0;32m   3813\u001b[0m \u001b[38;5;28;01mexcept\u001b[39;00m \u001b[38;5;167;01mTypeError\u001b[39;00m:\n\u001b[0;32m   3814\u001b[0m     \u001b[38;5;66;03m# If we have a listlike key, _check_indexing_error will raise\u001b[39;00m\n\u001b[0;32m   3815\u001b[0m     \u001b[38;5;66;03m#  InvalidIndexError. Otherwise we fall through and re-raise\u001b[39;00m\n\u001b[0;32m   3816\u001b[0m     \u001b[38;5;66;03m#  the TypeError.\u001b[39;00m\n\u001b[1;32m-> 3817\u001b[0m     \u001b[38;5;28mself\u001b[39m\u001b[38;5;241m.\u001b[39m_check_indexing_error(key)\n\u001b[0;32m   3818\u001b[0m     \u001b[38;5;28;01mraise\u001b[39;00m\n",
      "File \u001b[1;32m~\\anaconda3\\Lib\\site-packages\\pandas\\core\\indexes\\base.py:6059\u001b[0m, in \u001b[0;36mIndex._check_indexing_error\u001b[1;34m(self, key)\u001b[0m\n\u001b[0;32m   6055\u001b[0m \u001b[38;5;28;01mdef\u001b[39;00m \u001b[38;5;21m_check_indexing_error\u001b[39m(\u001b[38;5;28mself\u001b[39m, key):\n\u001b[0;32m   6056\u001b[0m     \u001b[38;5;28;01mif\u001b[39;00m \u001b[38;5;129;01mnot\u001b[39;00m is_scalar(key):\n\u001b[0;32m   6057\u001b[0m         \u001b[38;5;66;03m# if key is not a scalar, directly raise an error (the code below\u001b[39;00m\n\u001b[0;32m   6058\u001b[0m         \u001b[38;5;66;03m# would convert to numpy arrays and raise later any way) - GH29926\u001b[39;00m\n\u001b[1;32m-> 6059\u001b[0m         \u001b[38;5;28;01mraise\u001b[39;00m InvalidIndexError(key)\n",
      "\u001b[1;31mInvalidIndexError\u001b[0m: 0      False\n1      False\n2      False\n3      False\n4      False\n       ...  \n447    False\n448    False\n449    False\n450    False\n451    False\nName: Time, Length: 452, dtype: bool"
     ]
    }
   ],
   "source": [
    "# 1) 분산 분석을 위한 데이터 만들기\n",
    "# NaN 행 제외\n",
    "temp = data.loc[data['Sleep efficiency'].notnull()]\n",
    "# 그룹별 저장\n",
    "h_0000 = temp.loc[temp['Time'] == 00:00:00, 'Sleep efficiency']\n",
    "h_2200 = temp.loc[temp['Time'] == 22:00:00, 'Sleep efficiency']\n",
    "h_2300 = temp.loc[temp['Time'] == 23:00:00, 'Sleep efficiency']\n",
    "h_2100 = temp.loc[temp['Time'] == 21:00:00, 'Sleep efficiency']\n",
    "h_0100 = temp.loc[temp['Time'] == '01:00:00', 'Sleep efficiency']\n",
    "h_2130 = temp.loc[temp['Time'] == '21:30:00', 'Sleep efficiency']\n",
    "h_0030 = temp.loc[temp['Time'] == '00:30:00', 'Sleep efficiency']\n",
    "h_0200 = temp.loc[temp['Time'] == '02:00:00', 'Sleep efficiency']\n",
    "h_0230 = temp.loc[temp['Time'] == '02:30:00', 'Sleep efficiency']\n",
    "h_0130 = temp.loc[temp['Time'] == '01:30:00', 'Sleep efficiency']\n",
    "h_2230 = temp.loc[temp['Time'] == '22:30:00', 'Sleep efficiency']"
   ]
  },
  {
   "cell_type": "code",
   "execution_count": 347,
   "id": "e02cd03a-5538-4886-8d6b-e010cd994512",
   "metadata": {},
   "outputs": [
    {
     "data": {
      "text/plain": [
       "<bound method Series.unique of 0      01:00:00\n",
       "1      02:00:00\n",
       "2      21:30:00\n",
       "3      02:30:00\n",
       "4      01:00:00\n",
       "         ...   \n",
       "447    22:00:00\n",
       "448    21:00:00\n",
       "449    23:00:00\n",
       "450    21:00:00\n",
       "451    02:30:00\n",
       "Name: Time, Length: 452, dtype: object>"
      ]
     },
     "execution_count": 347,
     "metadata": {},
     "output_type": "execute_result"
    }
   ],
   "source": [
    "data['Time'].unique"
   ]
  },
  {
   "cell_type": "code",
   "execution_count": 349,
   "id": "72b2a70a-ae32-4125-9c24-0db8d81f2d93",
   "metadata": {},
   "outputs": [
    {
     "name": "stderr",
     "output_type": "stream",
     "text": [
      "C:\\Users\\User\\anaconda3\\Lib\\site-packages\\scipy\\stats\\_stats_py.py:4102: DegenerateDataWarning: at least one input has length 0\n",
      "  if _f_oneway_is_too_small(samples):\n"
     ]
    },
    {
     "data": {
      "text/plain": [
       "F_onewayResult(statistic=nan, pvalue=nan)"
      ]
     },
     "execution_count": 349,
     "metadata": {},
     "output_type": "execute_result"
    }
   ],
   "source": [
    "spst.f_oneway(h_0000,h_2200,h_2300,h_2100,h_0100,h_2130,h_0030,h_0200,h_0230,h_0130,h_2230)"
   ]
  },
  {
   "cell_type": "markdown",
   "id": "57750756-50d5-460d-816a-daec3ddeeb9d",
   "metadata": {},
   "source": [
    "- 수면시간에 따라 수면효율에 차이가 있다고 보기 어렵다.\n",
    "- 변수가 너무 많기 때문에 시간단위로 범주화 (데이터 간소화)"
   ]
  },
  {
   "cell_type": "markdown",
   "id": "44e1c4f9-f460-434f-bf84-c0b0ddc37979",
   "metadata": {},
   "source": [
    "### 범주 -> 수치 (2)"
   ]
  },
  {
   "cell_type": "code",
   "execution_count": 52,
   "id": "f5c3aafa-fa90-4367-97a0-7f44881b2fd4",
   "metadata": {},
   "outputs": [],
   "source": [
    "# 취침 \"시간\"만 추출\n",
    "data['Hour']=data['Bedtime'].dt.hour"
   ]
  },
  {
   "cell_type": "code",
   "execution_count": 53,
   "id": "a07bc25e-7909-44a7-a4cd-36927f1c4e7a",
   "metadata": {},
   "outputs": [
    {
     "data": {
      "text/plain": [
       "Hour\n",
       "0     110\n",
       "22     83\n",
       "21     73\n",
       "1      67\n",
       "2      64\n",
       "23     55\n",
       "Name: count, dtype: int64"
      ]
     },
     "execution_count": 53,
     "metadata": {},
     "output_type": "execute_result"
    }
   ],
   "source": [
    "# 개수 확인\n",
    "data['Hour'].value_counts()"
   ]
  },
  {
   "cell_type": "code",
   "execution_count": 54,
   "id": "0b4914b0-f484-4710-9e0b-a13d7a33c10c",
   "metadata": {
    "scrolled": true
   },
   "outputs": [
    {
     "data": {
      "text/plain": [
       "Hour\n",
       "0     0.243363\n",
       "22    0.183628\n",
       "21    0.161504\n",
       "1     0.148230\n",
       "2     0.141593\n",
       "23    0.121681\n",
       "Name: count, dtype: float64"
      ]
     },
     "execution_count": 54,
     "metadata": {},
     "output_type": "execute_result"
    }
   ],
   "source": [
    "# 비율 확인\n",
    "data['Hour'].value_counts()/ len(data['Hour'])"
   ]
  },
  {
   "cell_type": "code",
   "execution_count": 55,
   "id": "cd413b9e-5705-4ab9-bb63-8595d037c22f",
   "metadata": {},
   "outputs": [],
   "source": [
    "# 시간 순서대로 정렬할 리스트 생성\n",
    "sorted_hours = [21, 22, 23, 0, 1, 2]"
   ]
  },
  {
   "cell_type": "code",
   "execution_count": 56,
   "id": "857c2249-d1ad-42ea-ba90-524577fd1e0f",
   "metadata": {},
   "outputs": [
    {
     "data": {
      "image/png": "[encoded data removed]",
      "text/plain": [
       "<Figure size 640x480 with 1 Axes>"
      ]
     },
     "metadata": {},
     "output_type": "display_data"
    }
   ],
   "source": [
    "sns.barplot(x='Hour',y='Sleep efficiency',data=data, order=sorted_hours)\n",
    "plt.xticks(rotation=45)\n",
    "plt.show()"
   ]
  },
  {
   "cell_type": "markdown",
   "id": "86dd55e1-3a5d-4f21-af66-03a6e80a9b9f",
   "metadata": {},
   "source": [
    "- 여전히 그래프 상 수면시간에 따라 수면효율에 차이가 있다고 보기 어렵다."
   ]
  },
  {
   "cell_type": "markdown",
   "id": "473fcbb5-a978-4e5d-ab13-1f4c35c6f48c",
   "metadata": {},
   "source": [
    "### 범주 -> 수치 (3): - 2번 anova 진행"
   ]
  },
  {
   "cell_type": "code",
   "execution_count": 59,
   "id": "a30e89a0-547d-494d-93e6-c4d0b02508fe",
   "metadata": {},
   "outputs": [
    {
     "data": {
      "text/html": [
       "<div>\n",
       "<style scoped>\n",
       "    .dataframe tbody tr th:only-of-type {\n",
       "        vertical-align: middle;\n",
       "    }\n",
       "\n",
       "    .dataframe tbody tr th {\n",
       "        vertical-align: top;\n",
       "    }\n",
       "\n",
       "    .dataframe thead th {\n",
       "        text-align: right;\n",
       "    }\n",
       "</style>\n",
       "<table border=\"1\" class=\"dataframe\">\n",
       "  <thead>\n",
       "    <tr style=\"text-align: right;\">\n",
       "      <th>Hour</th>\n",
       "      <th>0</th>\n",
       "      <th>1</th>\n",
       "      <th>2</th>\n",
       "      <th>21</th>\n",
       "      <th>22</th>\n",
       "      <th>23</th>\n",
       "    </tr>\n",
       "    <tr>\n",
       "      <th>High Sleep Efficiency</th>\n",
       "      <th></th>\n",
       "      <th></th>\n",
       "      <th></th>\n",
       "      <th></th>\n",
       "      <th></th>\n",
       "      <th></th>\n",
       "    </tr>\n",
       "  </thead>\n",
       "  <tbody>\n",
       "    <tr>\n",
       "      <th>0</th>\n",
       "      <td>61</td>\n",
       "      <td>41</td>\n",
       "      <td>46</td>\n",
       "      <td>40</td>\n",
       "      <td>38</td>\n",
       "      <td>25</td>\n",
       "    </tr>\n",
       "    <tr>\n",
       "      <th>1</th>\n",
       "      <td>49</td>\n",
       "      <td>26</td>\n",
       "      <td>18</td>\n",
       "      <td>33</td>\n",
       "      <td>45</td>\n",
       "      <td>30</td>\n",
       "    </tr>\n",
       "  </tbody>\n",
       "</table>\n",
       "</div>"
      ],
      "text/plain": [
       "Hour                   0   1   2   21  22  23\n",
       "High Sleep Efficiency                        \n",
       "0                      61  41  46  40  38  25\n",
       "1                      49  26  18  33  45  30"
      ]
     },
     "execution_count": 59,
     "metadata": {},
     "output_type": "execute_result"
    }
   ],
   "source": [
    "# 취침시간과 수면효율(범주)간 교차표\n",
    "pd.crosstab(data[target], data['Hour'])"
   ]
  },
  {
   "cell_type": "code",
   "execution_count": 60,
   "id": "de6db0f0-d7a4-42d9-a555-626b1bd78aa1",
   "metadata": {},
   "outputs": [
    {
     "name": "stdout",
     "output_type": "stream",
     "text": [
      "<class 'pandas.core.series.Series'>\n",
      "RangeIndex: 452 entries, 0 to 451\n",
      "Series name: Hour\n",
      "Non-Null Count  Dtype\n",
      "--------------  -----\n",
      "452 non-null    int32\n",
      "dtypes: int32(1)\n",
      "memory usage: 1.9 KB\n"
     ]
    }
   ],
   "source": [
    "data['Hour'].info()"
   ]
  },
  {
   "cell_type": "code",
   "execution_count": 61,
   "id": "7fd4f650-9e4a-46f7-9ab9-d2d877629428",
   "metadata": {},
   "outputs": [],
   "source": [
    "# 1) 분산 분석을 위한 데이터 만들기\n",
    "# NaN 행 제외\n",
    "temp = data.loc[data['Sleep efficiency'].notnull()]\n",
    "# 그룹별 저장\n",
    "h_21 = temp.loc[temp.Hour == 21, 'Sleep efficiency']\n",
    "h_22 = temp.loc[temp.Hour == 22, 'Sleep efficiency']\n",
    "h_23 = temp.loc[temp.Hour == 23, 'Sleep efficiency']\n",
    "h_0 = temp.loc[temp.Hour == 0, 'Sleep efficiency']\n",
    "h_1 = temp.loc[temp.Hour == 1, 'Sleep efficiency']\n",
    "h_2 = temp.loc[temp.Hour == 2, 'Sleep efficiency']"
   ]
  },
  {
   "cell_type": "code",
   "execution_count": 62,
   "id": "cabd70d0-265e-487b-a9a2-b0f6fa390e4c",
   "metadata": {
    "scrolled": true
   },
   "outputs": [
    {
     "data": {
      "text/plain": [
       "F_onewayResult(statistic=2.617004452222998, pvalue=0.023947938815406137)"
      ]
     },
     "execution_count": 62,
     "metadata": {},
     "output_type": "execute_result"
    }
   ],
   "source": [
    "spst.f_oneway(h_21, h_22, h_23, h_0, h_1, h_2)"
   ]
  },
  {
   "cell_type": "markdown",
   "id": "1a9c85a6-7d16-4775-bab5-fd4bff0d8ed2",
   "metadata": {},
   "source": [
    "- F통계량은 2.61, p-value는 0.02 로 변수들 간 유의미한 차이가 있다.\n",
    "- 사후분석 필요!"
   ]
  },
  {
   "cell_type": "markdown",
   "id": "37507089-ebe5-40b2-8faf-641b9fa5b214",
   "metadata": {},
   "source": [
    "### 범주 -> 범주"
   ]
  },
  {
   "cell_type": "code",
   "execution_count": 65,
   "id": "8ea6878b-b712-44c7-948c-ac91af570828",
   "metadata": {},
   "outputs": [
    {
     "data": {
      "text/html": [
       "<div>\n",
       "<style scoped>\n",
       "    .dataframe tbody tr th:only-of-type {\n",
       "        vertical-align: middle;\n",
       "    }\n",
       "\n",
       "    .dataframe tbody tr th {\n",
       "        vertical-align: top;\n",
       "    }\n",
       "\n",
       "    .dataframe thead th {\n",
       "        text-align: right;\n",
       "    }\n",
       "</style>\n",
       "<table border=\"1\" class=\"dataframe\">\n",
       "  <thead>\n",
       "    <tr style=\"text-align: right;\">\n",
       "      <th>High Sleep Efficiency</th>\n",
       "      <th>0</th>\n",
       "      <th>1</th>\n",
       "    </tr>\n",
       "    <tr>\n",
       "      <th>Hour</th>\n",
       "      <th></th>\n",
       "      <th></th>\n",
       "    </tr>\n",
       "  </thead>\n",
       "  <tbody>\n",
       "    <tr>\n",
       "      <th>0</th>\n",
       "      <td>61</td>\n",
       "      <td>49</td>\n",
       "    </tr>\n",
       "    <tr>\n",
       "      <th>1</th>\n",
       "      <td>41</td>\n",
       "      <td>26</td>\n",
       "    </tr>\n",
       "    <tr>\n",
       "      <th>2</th>\n",
       "      <td>46</td>\n",
       "      <td>18</td>\n",
       "    </tr>\n",
       "    <tr>\n",
       "      <th>21</th>\n",
       "      <td>40</td>\n",
       "      <td>33</td>\n",
       "    </tr>\n",
       "    <tr>\n",
       "      <th>22</th>\n",
       "      <td>38</td>\n",
       "      <td>45</td>\n",
       "    </tr>\n",
       "    <tr>\n",
       "      <th>23</th>\n",
       "      <td>25</td>\n",
       "      <td>30</td>\n",
       "    </tr>\n",
       "  </tbody>\n",
       "</table>\n",
       "</div>"
      ],
      "text/plain": [
       "High Sleep Efficiency   0   1\n",
       "Hour                         \n",
       "0                      61  49\n",
       "1                      41  26\n",
       "2                      46  18\n",
       "21                     40  33\n",
       "22                     38  45\n",
       "23                     25  30"
      ]
     },
     "execution_count": 65,
     "metadata": {},
     "output_type": "execute_result"
    }
   ],
   "source": [
    "table = pd.crosstab(data['Hour'],data[target])\n",
    "table"
   ]
  },
  {
   "cell_type": "code",
   "execution_count": 66,
   "id": "874629c6-df99-44ed-a68a-4d72cb4070fd",
   "metadata": {},
   "outputs": [
    {
     "data": {
      "image/png": "[encoded data removed]",
      "text/plain": [
       "<Figure size 640x480 with 3 Axes>"
      ]
     },
     "metadata": {},
     "output_type": "display_data"
    }
   ],
   "source": [
    "mosaic(data, ['Hour',target])\n",
    "plt.axhline(data[target].mean(),color='r')\n",
    "plt.show()"
   ]
  },
  {
   "cell_type": "markdown",
   "id": "ac885b18-7c96-41e9-a3ff-0dcf7d477f9c",
   "metadata": {},
   "source": [
    "- 취침 시간과 \"높은\" 수면 효율 간에는 유의미한 차이가 있는 것으로 보인다."
   ]
  },
  {
   "cell_type": "code",
   "execution_count": 68,
   "id": "66c81a17-1511-4bbf-bab4-690faa64b4ba",
   "metadata": {},
   "outputs": [
    {
     "name": "stdout",
     "output_type": "stream",
     "text": [
      "카이제곱통계량 13.264782920494815\n",
      "p-value 0.021019867231170237\n",
      "자유도 5\n"
     ]
    }
   ],
   "source": [
    "# 카이제곱검정\n",
    "result = spst.chi2_contingency(table)\n",
    "print('카이제곱통계량', result[0])\n",
    "print('p-value', result[1])\n",
    "print('자유도', result[2])"
   ]
  },
  {
   "cell_type": "markdown",
   "id": "baa691c2-8591-424d-ab5e-c3c77f0516fa",
   "metadata": {},
   "source": [
    "- 카이제곱 통계량이 13.2로 자유도의 2배 이상이고, p-value 또한 0.05 보다 작다\n",
    "- 취침 시간에 따라 \"높은\" 수면 효율은 유의미한 차이가 있는 것으로 보인다."
   ]
  },
  {
   "cell_type": "markdown",
   "id": "3a203503-f8ab-4e12-bb8f-322d62395b87",
   "metadata": {},
   "source": [
    "## 3. 카페인을 적게 마실수록 수면 효율이 높을 것이다.\n",
    "- Feature: 'Caffeine consumption'\n",
    "- Target: 'Sleep efficiency'"
   ]
  },
  {
   "cell_type": "markdown",
   "id": "6d5f075f-ff42-4198-bee8-9146fb40d736",
   "metadata": {},
   "source": [
    "### 결측치 처리"
   ]
  },
  {
   "cell_type": "code",
   "execution_count": 72,
   "id": "4ec3695c-fc1d-45c8-a261-a83cd7e25780",
   "metadata": {},
   "outputs": [
    {
     "name": "stdout",
     "output_type": "stream",
     "text": [
      "<class 'pandas.core.series.Series'>\n",
      "RangeIndex: 452 entries, 0 to 451\n",
      "Series name: Caffeine consumption\n",
      "Non-Null Count  Dtype  \n",
      "--------------  -----  \n",
      "427 non-null    float64\n",
      "dtypes: float64(1)\n",
      "memory usage: 3.7 KB\n"
     ]
    }
   ],
   "source": [
    "# 결측치 존재 한번 더 확인\n",
    "data['Caffeine consumption'].info()"
   ]
  },
  {
   "cell_type": "code",
   "execution_count": 73,
   "id": "6fd556f6-2a02-4b9c-aa71-93609daac9b9",
   "metadata": {},
   "outputs": [
    {
     "data": {
      "text/plain": [
       "Caffeine consumption\n",
       "0.0      211\n",
       "50.0     107\n",
       "25.0      79\n",
       "75.0      25\n",
       "200.0      4\n",
       "100.0      1\n",
       "Name: count, dtype: int64"
      ]
     },
     "execution_count": 73,
     "metadata": {},
     "output_type": "execute_result"
    }
   ],
   "source": [
    "data['Caffeine consumption'].value_counts()"
   ]
  },
  {
   "cell_type": "code",
   "execution_count": 74,
   "id": "4e7e90d2-4118-42dd-94a9-d93a743167db",
   "metadata": {},
   "outputs": [
    {
     "data": {
      "text/plain": [
       "count    427.000000\n",
       "mean      23.653396\n",
       "std       30.202785\n",
       "min        0.000000\n",
       "25%        0.000000\n",
       "50%       25.000000\n",
       "75%       50.000000\n",
       "max      200.000000\n",
       "Name: Caffeine consumption, dtype: float64"
      ]
     },
     "execution_count": 74,
     "metadata": {},
     "output_type": "execute_result"
    }
   ],
   "source": [
    "data['Caffeine consumption'].describe()"
   ]
  },
  {
   "cell_type": "code",
   "execution_count": 75,
   "id": "da9cbe5f-0e82-4c17-adf6-c2519d6a7f40",
   "metadata": {},
   "outputs": [
    {
     "data": {
      "image/png": "[encoded data removed]",
      "text/plain": [
       "<Figure size 640x480 with 1 Axes>"
      ]
     },
     "metadata": {},
     "output_type": "display_data"
    }
   ],
   "source": [
    "plt.hist(x='Caffeine consumption', data = data ,edgecolor = 'black')\n",
    "plt.show()"
   ]
  },
  {
   "cell_type": "code",
   "execution_count": 76,
   "id": "74dde897-8c5e-4bbd-98cd-3a54ff04fa6b",
   "metadata": {},
   "outputs": [
    {
     "data": {
      "image/png": "[encoded data removed]",
      "text/plain": [
       "<Figure size 640x480 with 1 Axes>"
      ]
     },
     "metadata": {},
     "output_type": "display_data"
    }
   ],
   "source": [
    "sns.countplot(x='Caffeine consumption', data=data)\n",
    "plt.grid()\n",
    "plt.show()"
   ]
  },
  {
   "cell_type": "code",
   "execution_count": 77,
   "id": "c8b05026-9edb-47bf-9916-72ada3121c3a",
   "metadata": {},
   "outputs": [
    {
     "data": {
      "text/html": [
       "<div>\n",
       "<style scoped>\n",
       "    .dataframe tbody tr th:only-of-type {\n",
       "        vertical-align: middle;\n",
       "    }\n",
       "\n",
       "    .dataframe tbody tr th {\n",
       "        vertical-align: top;\n",
       "    }\n",
       "\n",
       "    .dataframe thead th {\n",
       "        text-align: right;\n",
       "    }\n",
       "</style>\n",
       "<table border=\"1\" class=\"dataframe\">\n",
       "  <thead>\n",
       "    <tr style=\"text-align: right;\">\n",
       "      <th></th>\n",
       "      <th>Caffeine consumption</th>\n",
       "      <th>High Sleep Efficiency</th>\n",
       "    </tr>\n",
       "  </thead>\n",
       "  <tbody>\n",
       "    <tr>\n",
       "      <th>5</th>\n",
       "      <td>NaN</td>\n",
       "      <td>1</td>\n",
       "    </tr>\n",
       "    <tr>\n",
       "      <th>24</th>\n",
       "      <td>NaN</td>\n",
       "      <td>1</td>\n",
       "    </tr>\n",
       "    <tr>\n",
       "      <th>26</th>\n",
       "      <td>NaN</td>\n",
       "      <td>1</td>\n",
       "    </tr>\n",
       "    <tr>\n",
       "      <th>37</th>\n",
       "      <td>NaN</td>\n",
       "      <td>0</td>\n",
       "    </tr>\n",
       "    <tr>\n",
       "      <th>57</th>\n",
       "      <td>NaN</td>\n",
       "      <td>1</td>\n",
       "    </tr>\n",
       "    <tr>\n",
       "      <th>60</th>\n",
       "      <td>NaN</td>\n",
       "      <td>1</td>\n",
       "    </tr>\n",
       "    <tr>\n",
       "      <th>63</th>\n",
       "      <td>NaN</td>\n",
       "      <td>1</td>\n",
       "    </tr>\n",
       "    <tr>\n",
       "      <th>64</th>\n",
       "      <td>NaN</td>\n",
       "      <td>1</td>\n",
       "    </tr>\n",
       "    <tr>\n",
       "      <th>114</th>\n",
       "      <td>NaN</td>\n",
       "      <td>1</td>\n",
       "    </tr>\n",
       "    <tr>\n",
       "      <th>136</th>\n",
       "      <td>NaN</td>\n",
       "      <td>1</td>\n",
       "    </tr>\n",
       "    <tr>\n",
       "      <th>164</th>\n",
       "      <td>NaN</td>\n",
       "      <td>1</td>\n",
       "    </tr>\n",
       "    <tr>\n",
       "      <th>169</th>\n",
       "      <td>NaN</td>\n",
       "      <td>0</td>\n",
       "    </tr>\n",
       "    <tr>\n",
       "      <th>175</th>\n",
       "      <td>NaN</td>\n",
       "      <td>0</td>\n",
       "    </tr>\n",
       "    <tr>\n",
       "      <th>186</th>\n",
       "      <td>NaN</td>\n",
       "      <td>0</td>\n",
       "    </tr>\n",
       "    <tr>\n",
       "      <th>203</th>\n",
       "      <td>NaN</td>\n",
       "      <td>0</td>\n",
       "    </tr>\n",
       "    <tr>\n",
       "      <th>215</th>\n",
       "      <td>NaN</td>\n",
       "      <td>0</td>\n",
       "    </tr>\n",
       "    <tr>\n",
       "      <th>270</th>\n",
       "      <td>NaN</td>\n",
       "      <td>0</td>\n",
       "    </tr>\n",
       "    <tr>\n",
       "      <th>321</th>\n",
       "      <td>NaN</td>\n",
       "      <td>0</td>\n",
       "    </tr>\n",
       "    <tr>\n",
       "      <th>324</th>\n",
       "      <td>NaN</td>\n",
       "      <td>0</td>\n",
       "    </tr>\n",
       "    <tr>\n",
       "      <th>355</th>\n",
       "      <td>NaN</td>\n",
       "      <td>0</td>\n",
       "    </tr>\n",
       "    <tr>\n",
       "      <th>390</th>\n",
       "      <td>NaN</td>\n",
       "      <td>0</td>\n",
       "    </tr>\n",
       "    <tr>\n",
       "      <th>392</th>\n",
       "      <td>NaN</td>\n",
       "      <td>0</td>\n",
       "    </tr>\n",
       "    <tr>\n",
       "      <th>404</th>\n",
       "      <td>NaN</td>\n",
       "      <td>0</td>\n",
       "    </tr>\n",
       "    <tr>\n",
       "      <th>442</th>\n",
       "      <td>NaN</td>\n",
       "      <td>0</td>\n",
       "    </tr>\n",
       "    <tr>\n",
       "      <th>449</th>\n",
       "      <td>NaN</td>\n",
       "      <td>0</td>\n",
       "    </tr>\n",
       "  </tbody>\n",
       "</table>\n",
       "</div>"
      ],
      "text/plain": [
       "     Caffeine consumption  High Sleep Efficiency\n",
       "5                     NaN                      1\n",
       "24                    NaN                      1\n",
       "26                    NaN                      1\n",
       "37                    NaN                      0\n",
       "57                    NaN                      1\n",
       "60                    NaN                      1\n",
       "63                    NaN                      1\n",
       "64                    NaN                      1\n",
       "114                   NaN                      1\n",
       "136                   NaN                      1\n",
       "164                   NaN                      1\n",
       "169                   NaN                      0\n",
       "175                   NaN                      0\n",
       "186                   NaN                      0\n",
       "203                   NaN                      0\n",
       "215                   NaN                      0\n",
       "270                   NaN                      0\n",
       "321                   NaN                      0\n",
       "324                   NaN                      0\n",
       "355                   NaN                      0\n",
       "390                   NaN                      0\n",
       "392                   NaN                      0\n",
       "404                   NaN                      0\n",
       "442                   NaN                      0\n",
       "449                   NaN                      0"
      ]
     },
     "execution_count": 77,
     "metadata": {},
     "output_type": "execute_result"
    }
   ],
   "source": [
    "data[['Caffeine consumption',target]].loc[data['Caffeine consumption'].isna()]"
   ]
  },
  {
   "cell_type": "code",
   "execution_count": 78,
   "id": "396dc7cb-fb85-4c5e-9535-596fbba2db10",
   "metadata": {},
   "outputs": [
    {
     "data": {
      "text/plain": [
       "25"
      ]
     },
     "execution_count": 78,
     "metadata": {},
     "output_type": "execute_result"
    }
   ],
   "source": [
    "len(data[['Caffeine consumption',target]].loc[data['Caffeine consumption'].isna()])"
   ]
  },
  {
   "cell_type": "markdown",
   "id": "e6acc3b5-9f9b-40b4-93be-cb95edf806a4",
   "metadata": {},
   "source": [
    "- 결측치 중앙값:\n",
    "- 중앙값은 극단값에 덜 민감하기 떄문에"
   ]
  },
  {
   "cell_type": "code",
   "execution_count": 80,
   "id": "a9ff4ceb-33d6-4371-b40c-d43bd7a4257a",
   "metadata": {},
   "outputs": [],
   "source": [
    "data['Caffeine consumption'] = data['Caffeine consumption'].fillna(data['Caffeine consumption'].median())"
   ]
  },
  {
   "cell_type": "code",
   "execution_count": 81,
   "id": "b5b318bb-5f22-4533-9a63-d75dc508d78a",
   "metadata": {},
   "outputs": [
    {
     "data": {
      "text/plain": [
       "0"
      ]
     },
     "execution_count": 81,
     "metadata": {},
     "output_type": "execute_result"
    }
   ],
   "source": [
    "data['Caffeine consumption'].isna().sum()"
   ]
  },
  {
   "cell_type": "markdown",
   "id": "93532416-531e-4c35-89d3-5714fdce81df",
   "metadata": {},
   "source": [
    "### 기준 설정"
   ]
  },
  {
   "attachments": {
    "a362d8f2-f273-4df7-ae55-6f4fb4fd4dde.png": {
     "image/png": "[encoded data removed]"
    }
   },
   "cell_type": "markdown",
   "id": "2d4ab10a-f7d7-4b6a-a113-3fd02c996e09",
   "metadata": {},
   "source": [
    "![image.png](attachment:a362d8f2-f273-4df7-ae55-6f4fb4fd4dde.png)\n",
    "- https://www.mfds.go.kr/brd/m_99/down.do?brd_id=ntc0021&seq=44023&data_tp=A&file_seq=2"
   ]
  },
  {
   "cell_type": "markdown",
   "id": "1f38df55-9d44-445a-8bb4-8e3e6160f842",
   "metadata": {},
   "source": [
    "- 섭취권고량과 현재 자료의 범위가 많이 벗어나기 때문에 카페인 섭취 유무로 범주화 진행"
   ]
  },
  {
   "cell_type": "code",
   "execution_count": 85,
   "id": "a9c1c8af-9242-4c2d-b270-03735e555927",
   "metadata": {},
   "outputs": [],
   "source": [
    "# 범주화\n",
    "data['Caffeine_category'] = np.where(data['Alcohol consumption'] == 0.0, 0, 1)"
   ]
  },
  {
   "cell_type": "code",
   "execution_count": 86,
   "id": "c705e9c3-5c5d-40d6-9062-fa3d44c3e3ad",
   "metadata": {},
   "outputs": [
    {
     "data": {
      "text/plain": [
       "Caffeine_category\n",
       "0    246\n",
       "1    206\n",
       "Name: count, dtype: int64"
      ]
     },
     "execution_count": 86,
     "metadata": {},
     "output_type": "execute_result"
    }
   ],
   "source": [
    "data['Caffeine_category'].value_counts()"
   ]
  },
  {
   "cell_type": "markdown",
   "id": "bf94830c-b0b8-41d6-b98c-96d7f54f38d5",
   "metadata": {},
   "source": [
    "### 범주 -> 수치"
   ]
  },
  {
   "cell_type": "code",
   "execution_count": 88,
   "id": "e3c60b83-bfb9-42b0-9475-c6e14ad381ce",
   "metadata": {},
   "outputs": [
    {
     "data": {
      "text/plain": [
       "<Axes: xlabel='Caffeine_category', ylabel='Sleep efficiency'>"
      ]
     },
     "execution_count": 88,
     "metadata": {},
     "output_type": "execute_result"
    },
    {
     "data": {
      "image/png": "[encoded data removed]",
      "text/plain": [
       "<Figure size 640x480 with 1 Axes>"
      ]
     },
     "metadata": {},
     "output_type": "display_data"
    }
   ],
   "source": [
    "sns.barplot(x='Caffeine_category' ,y='Sleep efficiency', data=data)"
   ]
  },
  {
   "cell_type": "markdown",
   "id": "4463bad9-3d9f-4daa-a6e5-d5e105ff0d43",
   "metadata": {},
   "source": [
    "- 그래프 상으로 카페인을 섭취하는 그룹과 그렇지 않은 그룹의 차이가 있다고 보기 어렵다\n",
    "- t-test 진행"
   ]
  },
  {
   "cell_type": "code",
   "execution_count": 90,
   "id": "a8d740e1-4c89-4ddd-a5a0-cdaa9e9ce484",
   "metadata": {},
   "outputs": [],
   "source": [
    "take = data.loc[data['Caffeine_category']==1,'Sleep efficiency']\n",
    "n_take = data.loc[data['Caffeine_category']==0,'Sleep efficiency']"
   ]
  },
  {
   "cell_type": "code",
   "execution_count": 91,
   "id": "9c5aa27c-1f65-46dc-b31c-a8184aa703c4",
   "metadata": {},
   "outputs": [
    {
     "data": {
      "text/plain": [
       "TtestResult(statistic=7.894725488059029, pvalue=2.2417783374480188e-14, df=450.0)"
      ]
     },
     "execution_count": 91,
     "metadata": {},
     "output_type": "execute_result"
    }
   ],
   "source": [
    "spst.ttest_ind(n_take,take)"
   ]
  },
  {
   "cell_type": "markdown",
   "id": "a026c7d3-b0b2-43f3-9bf0-ba8dcc1a7d2a",
   "metadata": {},
   "source": [
    "- p-value가 매우 작은 값으로 통계적으로 유의미한 것으로 보인다."
   ]
  },
  {
   "cell_type": "code",
   "execution_count": 93,
   "id": "e1f3b16e-b71b-49ba-9554-c7071e1ccc8e",
   "metadata": {},
   "outputs": [
    {
     "data": {
      "text/plain": [
       "<Axes: xlabel='Caffeine consumption', ylabel='Sleep efficiency'>"
      ]
     },
     "execution_count": 93,
     "metadata": {},
     "output_type": "execute_result"
    },
    {
     "data": {
      "image/png": "[encoded data removed]",
      "text/plain": [
       "<Figure size 640x480 with 1 Axes>"
      ]
     },
     "metadata": {},
     "output_type": "display_data"
    }
   ],
   "source": [
    "sns.barplot(x='Caffeine consumption' ,y='Sleep efficiency', data=data)"
   ]
  },
  {
   "cell_type": "code",
   "execution_count": 94,
   "id": "cd461307-65ea-4c58-a7f7-388990e39ae8",
   "metadata": {},
   "outputs": [
    {
     "data": {
      "text/html": [
       "<div>\n",
       "<style scoped>\n",
       "    .dataframe tbody tr th:only-of-type {\n",
       "        vertical-align: middle;\n",
       "    }\n",
       "\n",
       "    .dataframe tbody tr th {\n",
       "        vertical-align: top;\n",
       "    }\n",
       "\n",
       "    .dataframe thead th {\n",
       "        text-align: right;\n",
       "    }\n",
       "</style>\n",
       "<table border=\"1\" class=\"dataframe\">\n",
       "  <thead>\n",
       "    <tr style=\"text-align: right;\">\n",
       "      <th></th>\n",
       "      <th>ID</th>\n",
       "      <th>Age</th>\n",
       "      <th>Gender</th>\n",
       "      <th>Bedtime</th>\n",
       "      <th>Wakeup time</th>\n",
       "      <th>Sleep duration</th>\n",
       "      <th>Sleep efficiency</th>\n",
       "      <th>REM sleep percentage</th>\n",
       "      <th>Deep sleep percentage</th>\n",
       "      <th>Light sleep percentage</th>\n",
       "      <th>Awakenings</th>\n",
       "      <th>Caffeine consumption</th>\n",
       "      <th>Alcohol consumption</th>\n",
       "      <th>Smoking status</th>\n",
       "      <th>Exercise frequency</th>\n",
       "      <th>High Sleep Efficiency</th>\n",
       "      <th>Time</th>\n",
       "      <th>Hour</th>\n",
       "      <th>Caffeine_category</th>\n",
       "    </tr>\n",
       "  </thead>\n",
       "  <tbody>\n",
       "    <tr>\n",
       "      <th>111</th>\n",
       "      <td>112</td>\n",
       "      <td>25</td>\n",
       "      <td>Male</td>\n",
       "      <td>2021-10-26 23:00:00</td>\n",
       "      <td>2021-10-26 06:00:00</td>\n",
       "      <td>7.0</td>\n",
       "      <td>0.9</td>\n",
       "      <td>20</td>\n",
       "      <td>65</td>\n",
       "      <td>15</td>\n",
       "      <td>0.0</td>\n",
       "      <td>100.0</td>\n",
       "      <td>0.0</td>\n",
       "      <td>No</td>\n",
       "      <td>3.0</td>\n",
       "      <td>1</td>\n",
       "      <td>23:00:00</td>\n",
       "      <td>23</td>\n",
       "      <td>0</td>\n",
       "    </tr>\n",
       "  </tbody>\n",
       "</table>\n",
       "</div>"
      ],
      "text/plain": [
       "      ID  Age Gender             Bedtime          Wakeup time  Sleep duration  \\\n",
       "111  112   25   Male 2021-10-26 23:00:00  2021-10-26 06:00:00             7.0   \n",
       "\n",
       "     Sleep efficiency  REM sleep percentage  Deep sleep percentage  \\\n",
       "111               0.9                    20                     65   \n",
       "\n",
       "     Light sleep percentage  Awakenings  Caffeine consumption  \\\n",
       "111                      15         0.0                 100.0   \n",
       "\n",
       "     Alcohol consumption Smoking status  Exercise frequency  \\\n",
       "111                  0.0             No                 3.0   \n",
       "\n",
       "     High Sleep Efficiency      Time  Hour  Caffeine_category  \n",
       "111                      1  23:00:00    23                  0  "
      ]
     },
     "execution_count": 94,
     "metadata": {},
     "output_type": "execute_result"
    }
   ],
   "source": [
    "data.loc[data['Caffeine consumption']==100]"
   ]
  },
  {
   "cell_type": "markdown",
   "id": "ddc8c0d4-1236-43f2-9802-a2b4919e142e",
   "metadata": {},
   "source": [
    "- 카페인 섭취량이 100인 사람은 단 1명!\n",
    "- 해석이 어려워서 바로 아노바 진행!"
   ]
  },
  {
   "cell_type": "code",
   "execution_count": 96,
   "id": "0057859f-b3f9-4299-83e7-f9a82070575f",
   "metadata": {},
   "outputs": [],
   "source": [
    "# NaN 행 제외\n",
    "temp = data.loc[data['Sleep efficiency'].notnull()]\n",
    "temp.head()\n",
    "# 그룹별 저장\n",
    "c_0 = temp.loc[temp['Caffeine consumption'] == 0.0, 'Sleep efficiency']\n",
    "c_25 = temp.loc[temp['Caffeine consumption'] == 25.0, 'Sleep efficiency']\n",
    "c_50 = temp.loc[temp['Caffeine consumption'] == 50.0, 'Sleep efficiency']\n",
    "c_75 = temp.loc[temp['Caffeine consumption'] == 75.0, 'Sleep efficiency']\n",
    "c_100= temp.loc[temp['Caffeine consumption'] == 100.0, 'Sleep efficiency']\n",
    "c_200= temp.loc[temp['Caffeine consumption'] == 200.0, 'Sleep efficiency']\n",
    "# 하면서 느낀점: 사전에 int 타입으로 변경할걸.."
   ]
  },
  {
   "cell_type": "code",
   "execution_count": 97,
   "id": "41339b6e-a7c2-4db7-a2ce-7c9a9da4393f",
   "metadata": {},
   "outputs": [
    {
     "data": {
      "text/plain": [
       "F_onewayResult(statistic=1.809487614063499, pvalue=0.10958669491882843)"
      ]
     },
     "execution_count": 97,
     "metadata": {},
     "output_type": "execute_result"
    }
   ],
   "source": [
    "spst.f_oneway(c_0, c_25, c_50, c_75, c_100, c_200)"
   ]
  },
  {
   "cell_type": "markdown",
   "id": "e31ca47a-8c91-43f5-805b-f1ad4a516d25",
   "metadata": {},
   "source": [
    "- F통계량이 2를 넘지 않고, 유의사항 0.05 에서 pvalue가 더 크므로 카페인 섭취와 수면효율간에는 유의미한 차이가 없다."
   ]
  },
  {
   "cell_type": "markdown",
   "id": "e63280ef-31e6-4969-8bd3-8f4302239a91",
   "metadata": {},
   "source": [
    "### 범주 -> 범주 "
   ]
  },
  {
   "cell_type": "code",
   "execution_count": 100,
   "id": "9c62fccf-c8a8-4e35-b751-ae3318828c91",
   "metadata": {},
   "outputs": [
    {
     "data": {
      "text/html": [
       "<div>\n",
       "<style scoped>\n",
       "    .dataframe tbody tr th:only-of-type {\n",
       "        vertical-align: middle;\n",
       "    }\n",
       "\n",
       "    .dataframe tbody tr th {\n",
       "        vertical-align: top;\n",
       "    }\n",
       "\n",
       "    .dataframe thead th {\n",
       "        text-align: right;\n",
       "    }\n",
       "</style>\n",
       "<table border=\"1\" class=\"dataframe\">\n",
       "  <thead>\n",
       "    <tr style=\"text-align: right;\">\n",
       "      <th>High Sleep Efficiency</th>\n",
       "      <th>0</th>\n",
       "      <th>1</th>\n",
       "    </tr>\n",
       "    <tr>\n",
       "      <th>Caffeine consumption</th>\n",
       "      <th></th>\n",
       "      <th></th>\n",
       "    </tr>\n",
       "  </thead>\n",
       "  <tbody>\n",
       "    <tr>\n",
       "      <th>0.0</th>\n",
       "      <td>122</td>\n",
       "      <td>89</td>\n",
       "    </tr>\n",
       "    <tr>\n",
       "      <th>25.0</th>\n",
       "      <td>60</td>\n",
       "      <td>44</td>\n",
       "    </tr>\n",
       "    <tr>\n",
       "      <th>50.0</th>\n",
       "      <td>60</td>\n",
       "      <td>47</td>\n",
       "    </tr>\n",
       "    <tr>\n",
       "      <th>75.0</th>\n",
       "      <td>7</td>\n",
       "      <td>18</td>\n",
       "    </tr>\n",
       "    <tr>\n",
       "      <th>100.0</th>\n",
       "      <td>0</td>\n",
       "      <td>1</td>\n",
       "    </tr>\n",
       "    <tr>\n",
       "      <th>200.0</th>\n",
       "      <td>2</td>\n",
       "      <td>2</td>\n",
       "    </tr>\n",
       "  </tbody>\n",
       "</table>\n",
       "</div>"
      ],
      "text/plain": [
       "High Sleep Efficiency    0   1\n",
       "Caffeine consumption          \n",
       "0.0                    122  89\n",
       "25.0                    60  44\n",
       "50.0                    60  47\n",
       "75.0                     7  18\n",
       "100.0                    0   1\n",
       "200.0                    2   2"
      ]
     },
     "execution_count": 100,
     "metadata": {},
     "output_type": "execute_result"
    }
   ],
   "source": [
    "table = pd.crosstab(data['Caffeine consumption'],data[target])\n",
    "table"
   ]
  },
  {
   "cell_type": "code",
   "execution_count": 101,
   "id": "478bb544-8c1f-4242-8611-3273ad873274",
   "metadata": {},
   "outputs": [
    {
     "data": {
      "image/png": "[encoded data removed]",
      "text/plain": [
       "<Figure size 640x480 with 3 Axes>"
      ]
     },
     "metadata": {},
     "output_type": "display_data"
    }
   ],
   "source": [
    "mosaic(data, ['Caffeine consumption',target])\n",
    "plt.axhline(data[target].mean(),color='r')\n",
    "plt.show()"
   ]
  },
  {
   "cell_type": "markdown",
   "id": "dc50cd3e-28ab-4859-b77b-aa584b7c25e8",
   "metadata": {},
   "source": [
    "- 전체 평균 비율과 차이가 근소하기 떄문에 카페인 섭취에 따라 수면 효율에 유의미한 차이가 존재하지 않는 것으로 보인다."
   ]
  },
  {
   "cell_type": "code",
   "execution_count": 103,
   "id": "1dad329f-ba54-4330-b7f5-cb1f8e56b46c",
   "metadata": {},
   "outputs": [
    {
     "name": "stdout",
     "output_type": "stream",
     "text": [
      "카이제곱통계량 9.628968179779305\n",
      "p-value 0.08645735302547362\n",
      "자유도 5\n"
     ]
    }
   ],
   "source": [
    "# 카이제곱검정\n",
    "result = spst.chi2_contingency(table)\n",
    "print('카이제곱통계량', result[0])\n",
    "print('p-value', result[1])\n",
    "print('자유도', result[2])"
   ]
  },
  {
   "cell_type": "markdown",
   "id": "d4166646-6d4a-4f9b-a6d5-7a6905404a4d",
   "metadata": {},
   "source": [
    "- 카이제곱통계량이 자유도의 2배(10)를 넘지 않고, p-value 또한 0.05보다 크기 때문에 카페인 섭취와 수면 효율 간 관계가 있다고 보기 어렵다."
   ]
  },
  {
   "cell_type": "code",
   "execution_count": 105,
   "id": "f891ed01-fb47-4a33-a43a-0fd18bcd8839",
   "metadata": {},
   "outputs": [
    {
     "data": {
      "text/html": [
       "<div>\n",
       "<style scoped>\n",
       "    .dataframe tbody tr th:only-of-type {\n",
       "        vertical-align: middle;\n",
       "    }\n",
       "\n",
       "    .dataframe tbody tr th {\n",
       "        vertical-align: top;\n",
       "    }\n",
       "\n",
       "    .dataframe thead th {\n",
       "        text-align: right;\n",
       "    }\n",
       "</style>\n",
       "<table border=\"1\" class=\"dataframe\">\n",
       "  <thead>\n",
       "    <tr style=\"text-align: right;\">\n",
       "      <th>High Sleep Efficiency</th>\n",
       "      <th>0</th>\n",
       "      <th>1</th>\n",
       "    </tr>\n",
       "    <tr>\n",
       "      <th>Caffeine_category</th>\n",
       "      <th></th>\n",
       "      <th></th>\n",
       "    </tr>\n",
       "  </thead>\n",
       "  <tbody>\n",
       "    <tr>\n",
       "      <th>0</th>\n",
       "      <td>112</td>\n",
       "      <td>134</td>\n",
       "    </tr>\n",
       "    <tr>\n",
       "      <th>1</th>\n",
       "      <td>139</td>\n",
       "      <td>67</td>\n",
       "    </tr>\n",
       "  </tbody>\n",
       "</table>\n",
       "</div>"
      ],
      "text/plain": [
       "High Sleep Efficiency    0    1\n",
       "Caffeine_category              \n",
       "0                      112  134\n",
       "1                      139   67"
      ]
     },
     "execution_count": 105,
     "metadata": {},
     "output_type": "execute_result"
    }
   ],
   "source": [
    "table = pd.crosstab(data['Caffeine_category'],data[target])\n",
    "table"
   ]
  },
  {
   "cell_type": "code",
   "execution_count": 106,
   "id": "9168e5dd-7c3c-47cb-bac1-9737847d02f8",
   "metadata": {},
   "outputs": [
    {
     "data": {
      "image/png": "[encoded data removed]",
      "text/plain": [
       "<Figure size 640x480 with 3 Axes>"
      ]
     },
     "metadata": {},
     "output_type": "display_data"
    }
   ],
   "source": [
    "mosaic(data, ['Caffeine_category',target])\n",
    "plt.axhline(data[target].mean(),color='r')\n",
    "plt.show()"
   ]
  },
  {
   "cell_type": "code",
   "execution_count": 107,
   "id": "606ee274-b2b9-406b-a005-b4374ec06cef",
   "metadata": {},
   "outputs": [
    {
     "name": "stdout",
     "output_type": "stream",
     "text": [
      "카이제곱통계량 20.989423850573715\n",
      "p-value 4.6182574537463e-06\n",
      "자유도 1\n"
     ]
    }
   ],
   "source": [
    "# 카이제곱검정\n",
    "result = spst.chi2_contingency(table)\n",
    "print('카이제곱통계량', result[0])\n",
    "print('p-value', result[1])\n",
    "print('자유도', result[2])"
   ]
  },
  {
   "cell_type": "markdown",
   "id": "103af23d-6135-4eb2-aa6b-44aa6d47c6ae",
   "metadata": {},
   "source": [
    "- 카이제곱통계량이 자유도의 2배(2)를 넘고, p-value 또한 0.05보다 작기 때문에 카페인 섭취와 수면 효율 간 관계가 있다고 봐야한다."
   ]
  },
  {
   "cell_type": "markdown",
   "id": "983065e4-8cb4-4c8f-9c0c-e2f6c66a12e2",
   "metadata": {},
   "source": [
    "## 4. 알코올을 적게 마실수록 수면 효율이 높을 것이다.\n",
    "- Feature: 'Alcohol consumption'\n",
    "- Target: 'Sleep efficiency'"
   ]
  },
  {
   "cell_type": "markdown",
   "id": "966cfd93-b119-4e37-9595-bb9480861987",
   "metadata": {},
   "source": [
    "### 결측치 처리"
   ]
  },
  {
   "cell_type": "code",
   "execution_count": 111,
   "id": "fb28e44b-09cf-4fef-b4d0-79031d80ff23",
   "metadata": {
    "scrolled": true
   },
   "outputs": [
    {
     "name": "stdout",
     "output_type": "stream",
     "text": [
      "<class 'pandas.core.series.Series'>\n",
      "RangeIndex: 452 entries, 0 to 451\n",
      "Series name: Alcohol consumption\n",
      "Non-Null Count  Dtype  \n",
      "--------------  -----  \n",
      "438 non-null    float64\n",
      "dtypes: float64(1)\n",
      "memory usage: 3.7 KB\n"
     ]
    }
   ],
   "source": [
    "# 결측치 존재 한번 더 확인\n",
    "data['Alcohol consumption'].info()"
   ]
  },
  {
   "cell_type": "code",
   "execution_count": 112,
   "id": "6fcc0cc0-c441-4a7c-841a-26d41f38250c",
   "metadata": {},
   "outputs": [
    {
     "data": {
      "text/plain": [
       "count    438.000000\n",
       "mean       1.173516\n",
       "std        1.621377\n",
       "min        0.000000\n",
       "25%        0.000000\n",
       "50%        0.000000\n",
       "75%        2.000000\n",
       "max        5.000000\n",
       "Name: Alcohol consumption, dtype: float64"
      ]
     },
     "execution_count": 112,
     "metadata": {},
     "output_type": "execute_result"
    }
   ],
   "source": [
    "data['Alcohol consumption'].describe()"
   ]
  },
  {
   "cell_type": "code",
   "execution_count": 113,
   "id": "f62a5254-385c-4b04-8c1a-4b2dcda82717",
   "metadata": {},
   "outputs": [
    {
     "data": {
      "text/plain": [
       "Alcohol consumption\n",
       "0.0    246\n",
       "1.0     54\n",
       "3.0     48\n",
       "2.0     37\n",
       "5.0     30\n",
       "4.0     23\n",
       "Name: count, dtype: int64"
      ]
     },
     "execution_count": 113,
     "metadata": {},
     "output_type": "execute_result"
    }
   ],
   "source": [
    "data['Alcohol consumption'].value_counts()"
   ]
  },
  {
   "cell_type": "code",
   "execution_count": 114,
   "id": "3cc02672-88e6-413e-a29a-b5c88c6c3b15",
   "metadata": {},
   "outputs": [
    {
     "data": {
      "text/plain": [
       "0    0.0\n",
       "Name: Alcohol consumption, dtype: float64"
      ]
     },
     "execution_count": 114,
     "metadata": {},
     "output_type": "execute_result"
    }
   ],
   "source": [
    "data['Alcohol consumption'].mode()"
   ]
  },
  {
   "cell_type": "code",
   "execution_count": 115,
   "id": "8b61a9c6-1c7e-4dd8-8244-4226db31fb01",
   "metadata": {},
   "outputs": [
    {
     "name": "stderr",
     "output_type": "stream",
     "text": [
      "C:\\Users\\User\\AppData\\Local\\Temp\\ipykernel_24376\\1975296955.py:2: FutureWarning: A value is trying to be set on a copy of a DataFrame or Series through chained assignment using an inplace method.\n",
      "The behavior will change in pandas 3.0. This inplace method will never work because the intermediate object on which we are setting values always behaves as a copy.\n",
      "\n",
      "For example, when doing 'df[col].method(value, inplace=True)', try using 'df.method({col: value}, inplace=True)' or df[col] = df[col].method(value) instead, to perform the operation inplace on the original object.\n",
      "\n",
      "\n",
      "  data['Alcohol consumption'].fillna(data['Alcohol consumption'].mode()[0], inplace=True)\n"
     ]
    }
   ],
   "source": [
    "# 결측치를 최빈값으로 채우기\n",
    "data['Alcohol consumption'].fillna(data['Alcohol consumption'].mode()[0], inplace=True)"
   ]
  },
  {
   "cell_type": "code",
   "execution_count": 116,
   "id": "9068f3fa-01c6-412f-9eac-57760aa0f6f1",
   "metadata": {},
   "outputs": [],
   "source": [
    "data['Alcohol consumption'] = data['Alcohol consumption'].astype(int)"
   ]
  },
  {
   "cell_type": "code",
   "execution_count": 117,
   "id": "0d71785b-05d1-4f6b-9084-799f3260a0de",
   "metadata": {},
   "outputs": [
    {
     "data": {
      "text/plain": [
       "0"
      ]
     },
     "execution_count": 117,
     "metadata": {},
     "output_type": "execute_result"
    }
   ],
   "source": [
    "data['Alcohol consumption'].isna().sum()"
   ]
  },
  {
   "cell_type": "code",
   "execution_count": 118,
   "id": "822fda87-dccc-4c02-8358-b4bc89bbf394",
   "metadata": {},
   "outputs": [
    {
     "data": {
      "image/png": "[encoded data removed]",
      "text/plain": [
       "<Figure size 640x480 with 1 Axes>"
      ]
     },
     "metadata": {},
     "output_type": "display_data"
    }
   ],
   "source": [
    "plt.hist(x='Alcohol consumption', data = data ,edgecolor = 'black',bins= [0,1,2,3,4,5,6])\n",
    "plt.show()"
   ]
  },
  {
   "cell_type": "markdown",
   "id": "60878152-65ac-464d-b17b-6194b72ddddd",
   "metadata": {},
   "source": [
    "### 범주 -> 수치"
   ]
  },
  {
   "cell_type": "code",
   "execution_count": 120,
   "id": "156913a7-17dc-43bc-93cf-9505487401c5",
   "metadata": {},
   "outputs": [
    {
     "data": {
      "text/plain": [
       "<Axes: xlabel='Alcohol consumption', ylabel='Sleep efficiency'>"
      ]
     },
     "execution_count": 120,
     "metadata": {},
     "output_type": "execute_result"
    },
    {
     "data": {
      "image/png": "[encoded data removed]",
      "text/plain": [
       "<Figure size 640x480 with 1 Axes>"
      ]
     },
     "metadata": {},
     "output_type": "display_data"
    }
   ],
   "source": [
    "sns.barplot(x='Alcohol consumption' ,y='Sleep efficiency', data=data)"
   ]
  },
  {
   "cell_type": "markdown",
   "id": "42be7b46-737e-43ee-8ab8-48486c091059",
   "metadata": {},
   "source": [
    "- 0,1,2 온스까지는 차이가 있는것으로 보이고, 3,4,5 온스는 차이가 있다고 보기 어렵다"
   ]
  },
  {
   "cell_type": "code",
   "execution_count": 122,
   "id": "03f6cfbe-b696-4504-8db3-76658b74291d",
   "metadata": {},
   "outputs": [],
   "source": [
    "# NaN 행 제외\n",
    "temp = data.loc[data['Sleep efficiency'].notnull()]\n",
    "temp.head()\n",
    "# 그룹별 저장\n",
    "a_0 = temp.loc[temp['Alcohol consumption'] == 0, 'Sleep efficiency']\n",
    "a_1 = temp.loc[temp['Alcohol consumption'] == 1, 'Sleep efficiency']\n",
    "a_2 = temp.loc[temp['Alcohol consumption'] == 2, 'Sleep efficiency']\n",
    "a_3 = temp.loc[temp['Alcohol consumption'] == 3, 'Sleep efficiency']\n",
    "a_4 = temp.loc[temp['Alcohol consumption'] == 4, 'Sleep efficiency']\n",
    "a_5 = temp.loc[temp['Alcohol consumption'] == 5, 'Sleep efficiency']\n",
    "# 하면서 느낀점: 사전에 int 타입으로 변경할걸.."
   ]
  },
  {
   "cell_type": "code",
   "execution_count": 123,
   "id": "8f1d36b6-779e-4829-b233-22e3b60dc27d",
   "metadata": {},
   "outputs": [
    {
     "data": {
      "text/plain": [
       "F_onewayResult(statistic=20.75743486342888, pvalue=1.1670730375075132e-18)"
      ]
     },
     "execution_count": 123,
     "metadata": {},
     "output_type": "execute_result"
    }
   ],
   "source": [
    "spst.f_oneway(a_0, a_1, a_2, a_3, a_4, a_5)"
   ]
  },
  {
   "cell_type": "markdown",
   "id": "f3cc075f-1f5b-403f-b087-91be71aae641",
   "metadata": {},
   "source": [
    "- F통계량이 크고 p-value가 매우 작으므로, 알콜섭취와 수면효율 간 통계적으로 유의미한 차이가 존재한다"
   ]
  },
  {
   "cell_type": "markdown",
   "id": "329b4f55-dfd8-4a31-828c-5c858c527006",
   "metadata": {},
   "source": [
    "- 알콜섭취 vs 알콜섭취 x"
   ]
  },
  {
   "cell_type": "code",
   "execution_count": 126,
   "id": "6afbb341-2a32-4286-bbae-80ff91925f4b",
   "metadata": {},
   "outputs": [],
   "source": [
    "data['Alcohol_category'] = np.where(data['Alcohol consumption'] == 0, 0, 1)"
   ]
  },
  {
   "cell_type": "code",
   "execution_count": 127,
   "id": "da29f3b8-951d-4dff-8312-b7b98494013b",
   "metadata": {},
   "outputs": [
    {
     "data": {
      "text/plain": [
       "Alcohol_category\n",
       "0    260\n",
       "1    192\n",
       "Name: count, dtype: int64"
      ]
     },
     "execution_count": 127,
     "metadata": {},
     "output_type": "execute_result"
    }
   ],
   "source": [
    "data['Alcohol_category'].value_counts()"
   ]
  },
  {
   "cell_type": "code",
   "execution_count": 128,
   "id": "07da32a8-6756-4be6-8d7f-1f87ec41c5f9",
   "metadata": {},
   "outputs": [
    {
     "data": {
      "text/plain": [
       "<Axes: xlabel='Alcohol_category', ylabel='Sleep efficiency'>"
      ]
     },
     "execution_count": 128,
     "metadata": {},
     "output_type": "execute_result"
    },
    {
     "data": {
      "image/png": "[encoded data removed]",
      "text/plain": [
       "<Figure size 640x480 with 1 Axes>"
      ]
     },
     "metadata": {},
     "output_type": "display_data"
    }
   ],
   "source": [
    "sns.barplot(x='Alcohol_category' ,y='Sleep efficiency', data=data)"
   ]
  },
  {
   "cell_type": "markdown",
   "id": "c6c69b3c-5f25-4aec-af58-822e3cec7aaa",
   "metadata": {},
   "source": [
    "- 그래프 상으로 알콜 섭취하는 그룹과 섭취하지 않는 그룹 간의 유의미한 차이가 있음을 확인할 수 있다."
   ]
  },
  {
   "cell_type": "code",
   "execution_count": 130,
   "id": "d55ea4ca-2f28-48e8-981c-b16773f6e640",
   "metadata": {},
   "outputs": [],
   "source": [
    "take = data.loc[data['Alcohol_category']==1,'Sleep efficiency']\n",
    "n_take = data.loc[data['Alcohol_category']==0,'Sleep efficiency']"
   ]
  },
  {
   "cell_type": "code",
   "execution_count": 131,
   "id": "974d8d36-5991-4277-a49e-b18c8642b2e7",
   "metadata": {},
   "outputs": [
    {
     "data": {
      "text/plain": [
       "TtestResult(statistic=8.009946764059336, pvalue=9.916513853386906e-15, df=450.0)"
      ]
     },
     "execution_count": 131,
     "metadata": {},
     "output_type": "execute_result"
    }
   ],
   "source": [
    "spst.ttest_ind(n_take,take)"
   ]
  },
  {
   "cell_type": "markdown",
   "id": "dd38d92b-b9e9-47d1-b84f-139e661ddbb2",
   "metadata": {},
   "source": [
    "- t통계량은 8, p-value는 9.916513853386906e-15로 굉장히 작은 값으로, 알콜 섭취하는 그룹과 섭취하지 않는 그룹 간의 유의미한 차이가 있음을 확인할 수 있다."
   ]
  },
  {
   "cell_type": "markdown",
   "id": "812f7749-1afc-4fe0-8c52-bd014dec87c7",
   "metadata": {},
   "source": [
    "### 범주 -> 범주"
   ]
  },
  {
   "cell_type": "code",
   "execution_count": 134,
   "id": "4bd87c7f-15a2-499c-86ce-deb513d9b7d6",
   "metadata": {},
   "outputs": [
    {
     "data": {
      "text/html": [
       "<div>\n",
       "<style scoped>\n",
       "    .dataframe tbody tr th:only-of-type {\n",
       "        vertical-align: middle;\n",
       "    }\n",
       "\n",
       "    .dataframe tbody tr th {\n",
       "        vertical-align: top;\n",
       "    }\n",
       "\n",
       "    .dataframe thead th {\n",
       "        text-align: right;\n",
       "    }\n",
       "</style>\n",
       "<table border=\"1\" class=\"dataframe\">\n",
       "  <thead>\n",
       "    <tr style=\"text-align: right;\">\n",
       "      <th>High Sleep Efficiency</th>\n",
       "      <th>0</th>\n",
       "      <th>1</th>\n",
       "    </tr>\n",
       "    <tr>\n",
       "      <th>Alcohol consumption</th>\n",
       "      <th></th>\n",
       "      <th></th>\n",
       "    </tr>\n",
       "  </thead>\n",
       "  <tbody>\n",
       "    <tr>\n",
       "      <th>0</th>\n",
       "      <td>120</td>\n",
       "      <td>140</td>\n",
       "    </tr>\n",
       "    <tr>\n",
       "      <th>1</th>\n",
       "      <td>28</td>\n",
       "      <td>26</td>\n",
       "    </tr>\n",
       "    <tr>\n",
       "      <th>2</th>\n",
       "      <td>30</td>\n",
       "      <td>7</td>\n",
       "    </tr>\n",
       "    <tr>\n",
       "      <th>3</th>\n",
       "      <td>30</td>\n",
       "      <td>18</td>\n",
       "    </tr>\n",
       "    <tr>\n",
       "      <th>4</th>\n",
       "      <td>20</td>\n",
       "      <td>3</td>\n",
       "    </tr>\n",
       "    <tr>\n",
       "      <th>5</th>\n",
       "      <td>23</td>\n",
       "      <td>7</td>\n",
       "    </tr>\n",
       "  </tbody>\n",
       "</table>\n",
       "</div>"
      ],
      "text/plain": [
       "High Sleep Efficiency    0    1\n",
       "Alcohol consumption            \n",
       "0                      120  140\n",
       "1                       28   26\n",
       "2                       30    7\n",
       "3                       30   18\n",
       "4                       20    3\n",
       "5                       23    7"
      ]
     },
     "execution_count": 134,
     "metadata": {},
     "output_type": "execute_result"
    }
   ],
   "source": [
    "table = pd.crosstab(data['Alcohol consumption'],data[target])\n",
    "table"
   ]
  },
  {
   "cell_type": "code",
   "execution_count": 135,
   "id": "c45ad871-b121-4832-b9a5-a0cbd7de444e",
   "metadata": {},
   "outputs": [
    {
     "data": {
      "image/png": "[encoded data removed]",
      "text/plain": [
       "<Figure size 640x480 with 3 Axes>"
      ]
     },
     "metadata": {},
     "output_type": "display_data"
    }
   ],
   "source": [
    "mosaic(data, ['Alcohol consumption',target])\n",
    "plt.axhline(data[target].mean(),color='r')\n",
    "plt.show()"
   ]
  },
  {
   "cell_type": "markdown",
   "id": "5b305f81-6362-4725-a78b-5095cd19e6a0",
   "metadata": {},
   "source": [
    "- 전체 평균 비율과 차이가 나기 떄문에 알콜 섭취에 따라 \"높은\" 수면 효율에 유의미한 차이가 존재하는 것으로 보인다."
   ]
  },
  {
   "cell_type": "code",
   "execution_count": 137,
   "id": "de8a3c87-a134-47d8-97c9-12e1684d88fd",
   "metadata": {},
   "outputs": [
    {
     "name": "stdout",
     "output_type": "stream",
     "text": [
      "카이제곱통계량 34.90452523268557\n",
      "p-value 1.5721247821293913e-06\n",
      "자유도 5\n"
     ]
    }
   ],
   "source": [
    "# 카이제곱검정\n",
    "result = spst.chi2_contingency(table)\n",
    "print('카이제곱통계량', result[0])\n",
    "print('p-value', result[1])\n",
    "print('자유도', result[2])"
   ]
  },
  {
   "cell_type": "markdown",
   "id": "1a14494d-4e1f-4d86-9252-ca5012fc32ef",
   "metadata": {},
   "source": [
    "- 카이제곱통계량이 자유도의 2배(10)를 넘고, p-value 또한 0.05보다 작기 때문에 알코올 섭취와 \"높은\" 수면 효율 간 관계가 있다고 볼 수 있다. "
   ]
  },
  {
   "cell_type": "code",
   "execution_count": 139,
   "id": "fad2bf42-9c9d-4bd3-9f64-270515bf338e",
   "metadata": {},
   "outputs": [
    {
     "data": {
      "text/html": [
       "<div>\n",
       "<style scoped>\n",
       "    .dataframe tbody tr th:only-of-type {\n",
       "        vertical-align: middle;\n",
       "    }\n",
       "\n",
       "    .dataframe tbody tr th {\n",
       "        vertical-align: top;\n",
       "    }\n",
       "\n",
       "    .dataframe thead th {\n",
       "        text-align: right;\n",
       "    }\n",
       "</style>\n",
       "<table border=\"1\" class=\"dataframe\">\n",
       "  <thead>\n",
       "    <tr style=\"text-align: right;\">\n",
       "      <th>High Sleep Efficiency</th>\n",
       "      <th>0</th>\n",
       "      <th>1</th>\n",
       "    </tr>\n",
       "    <tr>\n",
       "      <th>Alcohol_category</th>\n",
       "      <th></th>\n",
       "      <th></th>\n",
       "    </tr>\n",
       "  </thead>\n",
       "  <tbody>\n",
       "    <tr>\n",
       "      <th>0</th>\n",
       "      <td>120</td>\n",
       "      <td>140</td>\n",
       "    </tr>\n",
       "    <tr>\n",
       "      <th>1</th>\n",
       "      <td>131</td>\n",
       "      <td>61</td>\n",
       "    </tr>\n",
       "  </tbody>\n",
       "</table>\n",
       "</div>"
      ],
      "text/plain": [
       "High Sleep Efficiency    0    1\n",
       "Alcohol_category               \n",
       "0                      120  140\n",
       "1                      131   61"
      ]
     },
     "execution_count": 139,
     "metadata": {},
     "output_type": "execute_result"
    }
   ],
   "source": [
    "table = pd.crosstab(data['Alcohol_category'],data[target])\n",
    "table"
   ]
  },
  {
   "cell_type": "code",
   "execution_count": 140,
   "id": "0d97d3ea-0ef4-42c2-a9b1-e9a3c98e24ac",
   "metadata": {},
   "outputs": [
    {
     "data": {
      "image/png": "[encoded data removed]",
      "text/plain": [
       "<Figure size 640x480 with 3 Axes>"
      ]
     },
     "metadata": {},
     "output_type": "display_data"
    }
   ],
   "source": [
    "mosaic(data, ['Alcohol_category',target])\n",
    "plt.axhline(data[target].mean(),color='r')\n",
    "plt.show()"
   ]
  },
  {
   "cell_type": "code",
   "execution_count": 141,
   "id": "4e0dd88e-d066-4f5c-ac80-68d90aff23f5",
   "metadata": {},
   "outputs": [
    {
     "name": "stdout",
     "output_type": "stream",
     "text": [
      "카이제곱통계량 20.91023466409906\n",
      "p-value 4.813160825586504e-06\n",
      "자유도 1\n"
     ]
    }
   ],
   "source": [
    "# 카이제곱검정\n",
    "result = spst.chi2_contingency(table)\n",
    "print('카이제곱통계량', result[0])\n",
    "print('p-value', result[1])\n",
    "print('자유도', result[2])"
   ]
  },
  {
   "cell_type": "markdown",
   "id": "ceab3795-3177-45b4-8856-c0934c5366e7",
   "metadata": {},
   "source": [
    "- 카이제곱통계량이 자유도의 2배(2)를 넘고, p-value 또한 0.05보다 작기 때문에 알코올 섭취와 \"높은\" 수면 효율 간 관계가 있다고 볼 수 있다. "
   ]
  },
  {
   "cell_type": "markdown",
   "id": "ff31a16c-f20d-43dc-9289-16cdadfc3324",
   "metadata": {},
   "source": [
    "## 5. 비흡연자가 수면 효율이 높을 것이다.\n",
    "- Feature: 'Smoking status'\n",
    "- Target: 'Sleep efficiency'"
   ]
  },
  {
   "cell_type": "code",
   "execution_count": 144,
   "id": "575e7a77-5613-4b40-ad73-443cc43a6e36",
   "metadata": {},
   "outputs": [
    {
     "name": "stdout",
     "output_type": "stream",
     "text": [
      "<class 'pandas.core.series.Series'>\n",
      "RangeIndex: 452 entries, 0 to 451\n",
      "Series name: Smoking status\n",
      "Non-Null Count  Dtype \n",
      "--------------  ----- \n",
      "452 non-null    object\n",
      "dtypes: object(1)\n",
      "memory usage: 3.7+ KB\n"
     ]
    }
   ],
   "source": [
    "data['Smoking status'].info()"
   ]
  },
  {
   "cell_type": "code",
   "execution_count": 145,
   "id": "0528b76f-4f1e-4742-91f3-2de34c1e629c",
   "metadata": {},
   "outputs": [
    {
     "data": {
      "text/plain": [
       "Smoking status\n",
       "No     298\n",
       "Yes    154\n",
       "Name: count, dtype: int64"
      ]
     },
     "execution_count": 145,
     "metadata": {},
     "output_type": "execute_result"
    }
   ],
   "source": [
    "data['Smoking status'].value_counts()"
   ]
  },
  {
   "cell_type": "markdown",
   "id": "be801abd-5d6c-41ff-a1ba-feef98fa9723",
   "metadata": {},
   "source": [
    "### 범주 -> 수치"
   ]
  },
  {
   "cell_type": "code",
   "execution_count": 147,
   "id": "d41f17c1-0295-428c-9cb8-d9c703ee4847",
   "metadata": {},
   "outputs": [
    {
     "data": {
      "text/plain": [
       "<Axes: xlabel='Smoking status', ylabel='Sleep efficiency'>"
      ]
     },
     "execution_count": 147,
     "metadata": {},
     "output_type": "execute_result"
    },
    {
     "data": {
      "image/png": "[encoded data removed]",
      "text/plain": [
       "<Figure size 640x480 with 1 Axes>"
      ]
     },
     "metadata": {},
     "output_type": "display_data"
    }
   ],
   "source": [
    "sns.barplot(x='Smoking status' ,y='Sleep efficiency', data=data)"
   ]
  },
  {
   "cell_type": "markdown",
   "id": "26015765-997b-4d47-9f25-95b2cc9a6d15",
   "metadata": {},
   "source": [
    "- 그래프 상 흡연 그룹과 비흡연 그룹간 수면효율 차이를 확인 할 수 있다."
   ]
  },
  {
   "cell_type": "code",
   "execution_count": 149,
   "id": "8876a6e5-b6b4-4acb-9f67-2a147b48ddfe",
   "metadata": {},
   "outputs": [],
   "source": [
    "smoke = data.loc[data['Smoking status']=='Yes','Sleep efficiency']\n",
    "n_smoke = data.loc[data['Smoking status']=='No','Sleep efficiency']"
   ]
  },
  {
   "cell_type": "code",
   "execution_count": 150,
   "id": "368428e6-7031-488a-a73b-9510923ac722",
   "metadata": {},
   "outputs": [
    {
     "data": {
      "text/plain": [
       "TtestResult(statistic=6.4286893157053955, pvalue=3.288310567775705e-10, df=450.0)"
      ]
     },
     "execution_count": 150,
     "metadata": {},
     "output_type": "execute_result"
    }
   ],
   "source": [
    "spst.ttest_ind(n_smoke,smoke)"
   ]
  },
  {
   "cell_type": "markdown",
   "id": "d8fae138-b766-4043-bd9f-2eff25a31fc2",
   "metadata": {},
   "source": [
    "- t통계량: 6.42, p-value는 3*e-10으로 흡연여부와 수면 효율간 유의미한 관계가 있다고 볼 수 있다."
   ]
  },
  {
   "cell_type": "markdown",
   "id": "e6147321-841f-4b9e-817e-0a2f34036699",
   "metadata": {},
   "source": [
    "### 범주 -> 범주"
   ]
  },
  {
   "cell_type": "code",
   "execution_count": 153,
   "id": "5efd53e5-d2b3-488a-8cd8-d519329a6484",
   "metadata": {},
   "outputs": [
    {
     "data": {
      "text/html": [
       "<div>\n",
       "<style scoped>\n",
       "    .dataframe tbody tr th:only-of-type {\n",
       "        vertical-align: middle;\n",
       "    }\n",
       "\n",
       "    .dataframe tbody tr th {\n",
       "        vertical-align: top;\n",
       "    }\n",
       "\n",
       "    .dataframe thead th {\n",
       "        text-align: right;\n",
       "    }\n",
       "</style>\n",
       "<table border=\"1\" class=\"dataframe\">\n",
       "  <thead>\n",
       "    <tr style=\"text-align: right;\">\n",
       "      <th>High Sleep Efficiency</th>\n",
       "      <th>0</th>\n",
       "      <th>1</th>\n",
       "    </tr>\n",
       "    <tr>\n",
       "      <th>Smoking status</th>\n",
       "      <th></th>\n",
       "      <th></th>\n",
       "    </tr>\n",
       "  </thead>\n",
       "  <tbody>\n",
       "    <tr>\n",
       "      <th>No</th>\n",
       "      <td>158</td>\n",
       "      <td>140</td>\n",
       "    </tr>\n",
       "    <tr>\n",
       "      <th>Yes</th>\n",
       "      <td>93</td>\n",
       "      <td>61</td>\n",
       "    </tr>\n",
       "  </tbody>\n",
       "</table>\n",
       "</div>"
      ],
      "text/plain": [
       "High Sleep Efficiency    0    1\n",
       "Smoking status                 \n",
       "No                     158  140\n",
       "Yes                     93   61"
      ]
     },
     "execution_count": 153,
     "metadata": {},
     "output_type": "execute_result"
    }
   ],
   "source": [
    "table = pd.crosstab(data['Smoking status'],data[target])\n",
    "table"
   ]
  },
  {
   "cell_type": "code",
   "execution_count": 154,
   "id": "800ff070-b47e-47e7-b13b-2d372360288c",
   "metadata": {},
   "outputs": [
    {
     "data": {
      "image/png": "[encoded data removed]",
      "text/plain": [
       "<Figure size 640x480 with 3 Axes>"
      ]
     },
     "metadata": {},
     "output_type": "display_data"
    }
   ],
   "source": [
    "mosaic(data, ['Smoking status',target])\n",
    "plt.axhline(data[target].mean(),color='r')\n",
    "plt.show()"
   ]
  },
  {
   "cell_type": "code",
   "execution_count": 155,
   "id": "d74bf726-29a8-412e-8022-ab4d869591a5",
   "metadata": {},
   "outputs": [
    {
     "name": "stdout",
     "output_type": "stream",
     "text": [
      "카이제곱통계량 1.9444897584236431\n",
      "p-value 0.16318187126129835\n",
      "자유도 1\n"
     ]
    }
   ],
   "source": [
    "# 카이제곱검정\n",
    "result = spst.chi2_contingency(table)\n",
    "print('카이제곱통계량', result[0])\n",
    "print('p-value', result[1])\n",
    "print('자유도', result[2])"
   ]
  },
  {
   "cell_type": "markdown",
   "id": "cfbba5ae-0cca-4b97-a7b8-9f6dad8ca6fd",
   "metadata": {},
   "source": [
    "- 흡연 여부와 높은 수면 효율간에는 유의미한 관계가 없다고 볼 수 있다."
   ]
  },
  {
   "cell_type": "markdown",
   "id": "0b69aa88-8a18-4a83-9ebb-fef0159dd451",
   "metadata": {},
   "source": [
    "## 6. 운동을 자주 할 수록 수면 높을 것이다\n",
    "- Feature: 'Exercise frequency'\n",
    "- Target: 'Sleep efficiency'"
   ]
  },
  {
   "cell_type": "markdown",
   "id": "6e73aaec-e01f-4e9a-9d26-fbd065ede277",
   "metadata": {},
   "source": [
    "### 결측치 처리"
   ]
  },
  {
   "cell_type": "code",
   "execution_count": 159,
   "id": "a9746c8d-d69e-4588-b049-8a61b10ea272",
   "metadata": {},
   "outputs": [
    {
     "name": "stdout",
     "output_type": "stream",
     "text": [
      "<class 'pandas.core.series.Series'>\n",
      "RangeIndex: 452 entries, 0 to 451\n",
      "Series name: Exercise frequency\n",
      "Non-Null Count  Dtype  \n",
      "--------------  -----  \n",
      "446 non-null    float64\n",
      "dtypes: float64(1)\n",
      "memory usage: 3.7 KB\n"
     ]
    }
   ],
   "source": [
    "# 결측치 존재\n",
    "data['Exercise frequency'].info()"
   ]
  },
  {
   "cell_type": "code",
   "execution_count": 160,
   "id": "ae875a23-f42b-46af-a04a-6767e451e0d6",
   "metadata": {},
   "outputs": [
    {
     "data": {
      "text/plain": [
       "count    446.000000\n",
       "mean       1.791480\n",
       "std        1.428134\n",
       "min        0.000000\n",
       "25%        0.000000\n",
       "50%        2.000000\n",
       "75%        3.000000\n",
       "max        5.000000\n",
       "Name: Exercise frequency, dtype: float64"
      ]
     },
     "execution_count": 160,
     "metadata": {},
     "output_type": "execute_result"
    }
   ],
   "source": [
    "data['Exercise frequency'].describe()"
   ]
  },
  {
   "cell_type": "code",
   "execution_count": 161,
   "id": "148bc450-f19f-4885-8eb0-021de576e65b",
   "metadata": {
    "scrolled": true
   },
   "outputs": [
    {
     "data": {
      "text/plain": [
       "Exercise frequency\n",
       "3.0    130\n",
       "0.0    116\n",
       "1.0     97\n",
       "2.0     54\n",
       "4.0     41\n",
       "5.0      8\n",
       "Name: count, dtype: int64"
      ]
     },
     "execution_count": 161,
     "metadata": {},
     "output_type": "execute_result"
    }
   ],
   "source": [
    "data['Exercise frequency'].value_counts()"
   ]
  },
  {
   "cell_type": "code",
   "execution_count": 162,
   "id": "50375055-7aa1-4ef9-8a9e-039e43e15c37",
   "metadata": {},
   "outputs": [
    {
     "data": {
      "image/png": "[encoded data removed]",
      "text/plain": [
       "<Figure size 640x480 with 1 Axes>"
      ]
     },
     "metadata": {},
     "output_type": "display_data"
    }
   ],
   "source": [
    "plt.hist(x='Exercise frequency', data = data ,edgecolor = 'black',bins= [0,1,2,3,4,5,6])\n",
    "plt.show()"
   ]
  },
  {
   "cell_type": "code",
   "execution_count": 163,
   "id": "614a7f2f-20dc-43cd-9f15-90a8ee2dc441",
   "metadata": {
    "scrolled": true
   },
   "outputs": [
    {
     "data": {
      "text/plain": [
       "<Axes: xlabel='Exercise frequency'>"
      ]
     },
     "execution_count": 163,
     "metadata": {},
     "output_type": "execute_result"
    },
    {
     "data": {
      "image/png": "[encoded data removed]",
      "text/plain": [
       "<Figure size 640x480 with 1 Axes>"
      ]
     },
     "metadata": {},
     "output_type": "display_data"
    }
   ],
   "source": [
    "sns.boxplot(x='Exercise frequency', data=data)"
   ]
  },
  {
   "cell_type": "code",
   "execution_count": 164,
   "id": "77d46f02-399e-4224-bf58-a1a01ed8af45",
   "metadata": {},
   "outputs": [
    {
     "name": "stderr",
     "output_type": "stream",
     "text": [
      "C:\\Users\\User\\AppData\\Local\\Temp\\ipykernel_24376\\1271672911.py:2: FutureWarning: A value is trying to be set on a copy of a DataFrame or Series through chained assignment using an inplace method.\n",
      "The behavior will change in pandas 3.0. This inplace method will never work because the intermediate object on which we are setting values always behaves as a copy.\n",
      "\n",
      "For example, when doing 'df[col].method(value, inplace=True)', try using 'df.method({col: value}, inplace=True)' or df[col] = df[col].method(value) instead, to perform the operation inplace on the original object.\n",
      "\n",
      "\n",
      "  data['Exercise frequency'].fillna(data['Exercise frequency'].median(), inplace=True)\n"
     ]
    }
   ],
   "source": [
    "# 중위값 2로 결측치 처리\n",
    "data['Exercise frequency'].fillna(data['Exercise frequency'].median(), inplace=True)"
   ]
  },
  {
   "cell_type": "code",
   "execution_count": 165,
   "id": "540298a7-a229-4e17-999e-f3c738494f05",
   "metadata": {},
   "outputs": [
    {
     "data": {
      "text/plain": [
       "0"
      ]
     },
     "execution_count": 165,
     "metadata": {},
     "output_type": "execute_result"
    }
   ],
   "source": [
    "data['Exercise frequency'].isna().sum()"
   ]
  },
  {
   "cell_type": "code",
   "execution_count": 166,
   "id": "4d55c795-7947-458a-a001-80a5481f0ec0",
   "metadata": {},
   "outputs": [],
   "source": [
    "data['Exercise frequency'] = data['Exercise frequency'].astype(int)"
   ]
  },
  {
   "cell_type": "code",
   "execution_count": 167,
   "id": "6a8e3c9e-37de-4ffd-8b0f-af7da20d664c",
   "metadata": {},
   "outputs": [
    {
     "data": {
      "text/plain": [
       "dtype('int32')"
      ]
     },
     "execution_count": 167,
     "metadata": {},
     "output_type": "execute_result"
    }
   ],
   "source": [
    "data['Exercise frequency'].dtype"
   ]
  },
  {
   "cell_type": "markdown",
   "id": "162784e9-9bea-473f-9dcb-e896637639ff",
   "metadata": {},
   "source": [
    "### 범주 -> 수치"
   ]
  },
  {
   "cell_type": "code",
   "execution_count": 169,
   "id": "7873d6c7-645b-4015-b5db-c805d0183ed9",
   "metadata": {},
   "outputs": [
    {
     "data": {
      "text/plain": [
       "<matplotlib.lines.Line2D at 0x1b07d784bf0>"
      ]
     },
     "execution_count": 169,
     "metadata": {},
     "output_type": "execute_result"
    },
    {
     "data": {
      "image/png": "[encoded data removed]",
      "text/plain": [
       "<Figure size 640x480 with 1 Axes>"
      ]
     },
     "metadata": {},
     "output_type": "display_data"
    }
   ],
   "source": [
    "sns.barplot(x='Exercise frequency' ,y='Sleep efficiency', data=data)\n",
    "plt.axhline(data['Sleep efficiency'].mean(),color='r')"
   ]
  },
  {
   "cell_type": "markdown",
   "id": "0991cb2a-0ebc-4955-a622-c4da2ace3c5c",
   "metadata": {},
   "source": [
    "- 그래프 상으로 운동주기와 수면효율간 유의미한 차이가 있다고 보기 어렵다."
   ]
  },
  {
   "cell_type": "code",
   "execution_count": 171,
   "id": "802d77e0-5fe0-4c01-9c89-13ac4db6e45c",
   "metadata": {},
   "outputs": [],
   "source": [
    "# NaN 행 제외\n",
    "temp = data.loc[data['Sleep efficiency'].notnull()]\n",
    "temp.head()\n",
    "# 그룹별 저장\n",
    "e_0 = temp.loc[temp['Exercise frequency'] == 0, 'Sleep efficiency']\n",
    "e_1 = temp.loc[temp['Exercise frequency'] == 1, 'Sleep efficiency']\n",
    "e_2 = temp.loc[temp['Exercise frequency'] == 2, 'Sleep efficiency']\n",
    "e_3 = temp.loc[temp['Exercise frequency'] == 3, 'Sleep efficiency']\n",
    "e_4 = temp.loc[temp['Exercise frequency'] == 4, 'Sleep efficiency']\n",
    "e_5 = temp.loc[temp['Exercise frequency'] == 5, 'Sleep efficiency']\n",
    "# 하면서 느낀점: 사전에 int 타입으로 변경할걸.."
   ]
  },
  {
   "cell_type": "code",
   "execution_count": 172,
   "id": "db178067-1766-47f0-a781-181255a6bfb5",
   "metadata": {},
   "outputs": [
    {
     "data": {
      "text/plain": [
       "F_onewayResult(statistic=20.75743486342888, pvalue=1.1670730375075132e-18)"
      ]
     },
     "execution_count": 172,
     "metadata": {},
     "output_type": "execute_result"
    }
   ],
   "source": [
    "spst.f_oneway(a_0, a_1, a_2, a_3, a_4, a_5)"
   ]
  },
  {
   "cell_type": "markdown",
   "id": "36a8aa89-3425-4000-900e-b78a4d21882e",
   "metadata": {},
   "source": [
    "- F통계량이 크고 p-value가 매우 작으므로, 운동 주기와 수면효율 간 통계적으로 유의미한 차이가 존재한다"
   ]
  },
  {
   "cell_type": "markdown",
   "id": "1e49b8bd-040c-4e44-8c6b-69abc2449db2",
   "metadata": {},
   "source": [
    "- 운동 X vs 운동 O"
   ]
  },
  {
   "cell_type": "code",
   "execution_count": 175,
   "id": "bcb9f2d5-700a-46ed-8c89-4dad40b6dd06",
   "metadata": {},
   "outputs": [],
   "source": [
    "data['Exercise_category'] = np.where(data['Exercise frequency'] == 0, 0, 1)"
   ]
  },
  {
   "cell_type": "code",
   "execution_count": 176,
   "id": "26efb9c4-a9d0-4180-8c92-d592e393677f",
   "metadata": {},
   "outputs": [
    {
     "data": {
      "text/plain": [
       "<matplotlib.lines.Line2D at 0x1b07d26d0d0>"
      ]
     },
     "execution_count": 176,
     "metadata": {},
     "output_type": "execute_result"
    },
    {
     "data": {
      "image/png": "[encoded data removed]",
      "text/plain": [
       "<Figure size 640x480 with 1 Axes>"
      ]
     },
     "metadata": {},
     "output_type": "display_data"
    }
   ],
   "source": [
    "sns.barplot(x='Exercise_category' ,y='Sleep efficiency', data=data)\n",
    "plt.axhline(data['Sleep efficiency'].mean(),color='r')"
   ]
  },
  {
   "cell_type": "markdown",
   "id": "9d00be31-f1ce-41cc-85b6-1513bb76ca39",
   "metadata": {},
   "source": [
    "- 운동 유무를 그래프로 봤을 때, 유무자체로는 수면효율과 유의미한 차이를 보인다."
   ]
  },
  {
   "cell_type": "code",
   "execution_count": 178,
   "id": "186dd801-af24-47f7-96a0-32f6a0f9e780",
   "metadata": {},
   "outputs": [],
   "source": [
    "exer = data.loc[data['Exercise_category']==1,'Sleep efficiency']\n",
    "n_exer = data.loc[data['Exercise_category']==0,'Sleep efficiency']"
   ]
  },
  {
   "cell_type": "code",
   "execution_count": 179,
   "id": "7667b3bc-360e-44ae-a498-42bca398764c",
   "metadata": {},
   "outputs": [
    {
     "data": {
      "text/plain": [
       "TtestResult(statistic=-4.2375335176496165, pvalue=2.7428709284160958e-05, df=450.0)"
      ]
     },
     "execution_count": 179,
     "metadata": {},
     "output_type": "execute_result"
    }
   ],
   "source": [
    "spst.ttest_ind(n_exer,exer)"
   ]
  },
  {
   "cell_type": "markdown",
   "id": "4e5f0298-6d96-411c-9ae2-13100c6ee0f7",
   "metadata": {},
   "source": [
    "- t통계량이 -2보다 작고 p-value가 0.05보다 작기 때문에 운동 유무와 수면효율간 유의미한 차이가 존재한다."
   ]
  },
  {
   "cell_type": "markdown",
   "id": "93bcf14c-105c-4b11-ac10-b7e336cb71ab",
   "metadata": {},
   "source": [
    "### 범주 -> 범주"
   ]
  },
  {
   "cell_type": "code",
   "execution_count": 182,
   "id": "78a9b713-9f34-4c91-9328-9ed9b05fffe9",
   "metadata": {},
   "outputs": [
    {
     "data": {
      "text/html": [
       "<div>\n",
       "<style scoped>\n",
       "    .dataframe tbody tr th:only-of-type {\n",
       "        vertical-align: middle;\n",
       "    }\n",
       "\n",
       "    .dataframe tbody tr th {\n",
       "        vertical-align: top;\n",
       "    }\n",
       "\n",
       "    .dataframe thead th {\n",
       "        text-align: right;\n",
       "    }\n",
       "</style>\n",
       "<table border=\"1\" class=\"dataframe\">\n",
       "  <thead>\n",
       "    <tr style=\"text-align: right;\">\n",
       "      <th>High Sleep Efficiency</th>\n",
       "      <th>0</th>\n",
       "      <th>1</th>\n",
       "    </tr>\n",
       "    <tr>\n",
       "      <th>Exercise frequency</th>\n",
       "      <th></th>\n",
       "      <th></th>\n",
       "    </tr>\n",
       "  </thead>\n",
       "  <tbody>\n",
       "    <tr>\n",
       "      <th>0</th>\n",
       "      <td>82</td>\n",
       "      <td>34</td>\n",
       "    </tr>\n",
       "    <tr>\n",
       "      <th>1</th>\n",
       "      <td>59</td>\n",
       "      <td>38</td>\n",
       "    </tr>\n",
       "    <tr>\n",
       "      <th>2</th>\n",
       "      <td>34</td>\n",
       "      <td>26</td>\n",
       "    </tr>\n",
       "    <tr>\n",
       "      <th>3</th>\n",
       "      <td>66</td>\n",
       "      <td>64</td>\n",
       "    </tr>\n",
       "    <tr>\n",
       "      <th>4</th>\n",
       "      <td>9</td>\n",
       "      <td>32</td>\n",
       "    </tr>\n",
       "    <tr>\n",
       "      <th>5</th>\n",
       "      <td>1</td>\n",
       "      <td>7</td>\n",
       "    </tr>\n",
       "  </tbody>\n",
       "</table>\n",
       "</div>"
      ],
      "text/plain": [
       "High Sleep Efficiency   0   1\n",
       "Exercise frequency           \n",
       "0                      82  34\n",
       "1                      59  38\n",
       "2                      34  26\n",
       "3                      66  64\n",
       "4                       9  32\n",
       "5                       1   7"
      ]
     },
     "execution_count": 182,
     "metadata": {},
     "output_type": "execute_result"
    }
   ],
   "source": [
    "table = pd.crosstab(data['Exercise frequency'],data[target])\n",
    "table"
   ]
  },
  {
   "cell_type": "code",
   "execution_count": 183,
   "id": "2edbce1c-21a3-4e7b-bcad-6485a3d290b0",
   "metadata": {},
   "outputs": [
    {
     "data": {
      "image/png": "[encoded data removed]",
      "text/plain": [
       "<Figure size 640x480 with 3 Axes>"
      ]
     },
     "metadata": {},
     "output_type": "display_data"
    }
   ],
   "source": [
    "mosaic(data, ['Exercise frequency',target])\n",
    "plt.axhline(data[target].mean(),color='r')\n",
    "plt.show()"
   ]
  },
  {
   "cell_type": "markdown",
   "id": "0fd32e32-81fb-47a3-a334-8a56c11369dd",
   "metadata": {},
   "source": [
    "- 그래프 상으로 운동 회수와 수면 효율 간 유의미한 차이가 있는 것으로 보인다."
   ]
  },
  {
   "cell_type": "code",
   "execution_count": 185,
   "id": "515c2eb1-e617-4b41-89e7-8d3cd333d376",
   "metadata": {},
   "outputs": [
    {
     "name": "stdout",
     "output_type": "stream",
     "text": [
      "카이제곱통계량 37.84040259151632\n",
      "p-value 4.062274343068775e-07\n",
      "자유도 5\n"
     ]
    }
   ],
   "source": [
    "# 카이제곱검정\n",
    "result = spst.chi2_contingency(table)\n",
    "print('카이제곱통계량', result[0])\n",
    "print('p-value', result[1])\n",
    "print('자유도', result[2])"
   ]
  },
  {
   "cell_type": "markdown",
   "id": "c7151e08-0ad8-49c9-ad42-3da3e60837f2",
   "metadata": {},
   "source": [
    "- 카이제곱통계량이 37.8로 자유도의 2배(10)보다 크고, p-value가 0.05보다 작기 때문에 운동 주기와 높은 수면 효율간 유의미한 차이를 가진다고 볼 수 있다."
   ]
  },
  {
   "cell_type": "code",
   "execution_count": 187,
   "id": "be53dab6-c812-4599-b8df-b47cc5f55e76",
   "metadata": {},
   "outputs": [
    {
     "data": {
      "text/html": [
       "<div>\n",
       "<style scoped>\n",
       "    .dataframe tbody tr th:only-of-type {\n",
       "        vertical-align: middle;\n",
       "    }\n",
       "\n",
       "    .dataframe tbody tr th {\n",
       "        vertical-align: top;\n",
       "    }\n",
       "\n",
       "    .dataframe thead th {\n",
       "        text-align: right;\n",
       "    }\n",
       "</style>\n",
       "<table border=\"1\" class=\"dataframe\">\n",
       "  <thead>\n",
       "    <tr style=\"text-align: right;\">\n",
       "      <th>High Sleep Efficiency</th>\n",
       "      <th>0</th>\n",
       "      <th>1</th>\n",
       "    </tr>\n",
       "    <tr>\n",
       "      <th>Exercise_category</th>\n",
       "      <th></th>\n",
       "      <th></th>\n",
       "    </tr>\n",
       "  </thead>\n",
       "  <tbody>\n",
       "    <tr>\n",
       "      <th>0</th>\n",
       "      <td>82</td>\n",
       "      <td>34</td>\n",
       "    </tr>\n",
       "    <tr>\n",
       "      <th>1</th>\n",
       "      <td>169</td>\n",
       "      <td>167</td>\n",
       "    </tr>\n",
       "  </tbody>\n",
       "</table>\n",
       "</div>"
      ],
      "text/plain": [
       "High Sleep Efficiency    0    1\n",
       "Exercise_category              \n",
       "0                       82   34\n",
       "1                      169  167"
      ]
     },
     "execution_count": 187,
     "metadata": {},
     "output_type": "execute_result"
    }
   ],
   "source": [
    "table = pd.crosstab(data['Exercise_category'],data[target])\n",
    "table"
   ]
  },
  {
   "cell_type": "code",
   "execution_count": 188,
   "id": "a0d83d73-a0be-4ed8-a1a0-f6b7dca7be1e",
   "metadata": {},
   "outputs": [
    {
     "data": {
      "image/png": "[encoded data removed]",
      "text/plain": [
       "<Figure size 640x480 with 3 Axes>"
      ]
     },
     "metadata": {},
     "output_type": "display_data"
    }
   ],
   "source": [
    "mosaic(data, ['Exercise_category',target])\n",
    "plt.axhline(data[target].mean(),color='r')\n",
    "plt.show()"
   ]
  },
  {
   "cell_type": "markdown",
   "id": "566708c7-2c3a-4cd3-b028-c88169fe7846",
   "metadata": {},
   "source": [
    "- 그래프 상으로 운동 유무와 높은 수면 효율 간 차이가 있는 것으로 확인된다."
   ]
  },
  {
   "cell_type": "code",
   "execution_count": 190,
   "id": "8bbc0fbf-7c98-4a4c-a2aa-31cff405371c",
   "metadata": {},
   "outputs": [
    {
     "name": "stdout",
     "output_type": "stream",
     "text": [
      "카이제곱통계량 13.706639290935659\n",
      "p-value 0.00021369768653423546\n",
      "자유도 1\n"
     ]
    }
   ],
   "source": [
    "# 카이제곱검정\n",
    "result = spst.chi2_contingency(table)\n",
    "print('카이제곱통계량', result[0])\n",
    "print('p-value', result[1])\n",
    "print('자유도', result[2])"
   ]
  },
  {
   "cell_type": "markdown",
   "id": "6357469b-551c-482e-bb73-3691e35e7d34",
   "metadata": {},
   "source": [
    "- 카이제곱 통계량이 13.7로 자유도의 2배 이상이고, p-value 또한 0.05보다 작기 때문에 운동 유무와 높은 수면 효율 간 유의미한 차이를 가진다고 할 수 있다."
   ]
  },
  {
   "cell_type": "markdown",
   "id": "4c93dcad-6e6c-4c7d-be8e-f04a8082571c",
   "metadata": {},
   "source": [
    "# 결과"
   ]
  },
  {
   "cell_type": "markdown",
   "id": "830da6c3-955e-4e20-b021-463a49f27c12",
   "metadata": {},
   "source": [
    "1. 나이\n",
    "\n",
    "    1) 나이와 수면 효율간 매우 낮은 양의 상관관계\n",
    "    2) 나이와 높은 수면 효율\n",
    "        - 20대 후반까지는 \"높은\" 수면 효율 비율이 낮다.\n",
    "        - 20대 후반부터 50대 후반까지 \"높은\" 수면 효율이 높다\n",
    "        - 50대 후반부터는 \"높은\" 수면 효율이 감소하는 경향을 보인다\n",
    "\n",
    "<br>       \n",
    "\n",
    "2. 취침 시간\n",
    "\n",
    "    1) 취침 시간과 수면 효율 간 유의미한 차이가 있다. (사후 분석 필요!)\n",
    "    2) 취침 시간과 높은 수면 효율간 유의미한 차이가 있다.\n",
    "\n",
    "<br>\n",
    "\n",
    "3. 카페인 섭취\n",
    "    1) 카페인 섭취 유무와 수면 효율 간 유의미한 차이가 없다.\n",
    "    2) 카페인 섭취량과 수면 효율 간 유의미한 차이가 없다. \n",
    "    3) 카페인 섭취량과 \"높은\" 수면 효율 간에도 유의미한 차이가 없다.\n",
    "    4) 카페인 섭취 유무와 \"높은\" 수면 효율 간에도 유의미한 차이가 없다.\n",
    "\n",
    "<br>\n",
    "\n",
    "4. 알코올 섭취\n",
    "    1) 알코올 섭취량과 수면 효율 간 유의미한 차이를 보인다.\n",
    "    2) 알코올 섭취 유무 또한 수면 효율 간 유의미한 차이를 보인다.\n",
    "    3) 알코올 섭취량과 \"높은\" 수면 효율 간 유의미한 차이를 보인다.\n",
    "    4) 알코올 섭취 유무 또한 \"높은\" 수면 효율 간 유의미한 차이을 보인다.\n",
    "\n",
    "<br>\n",
    "\n",
    "5. 흡연 유무\n",
    "    1) 흡연 유무와 수면 효율 간 유의미한 차이를 보인다\n",
    "    2) 흡연 유무와 \"높은\" 수면 효율 간에는 유의미한 차이를 보이지 않는다.\n",
    "\n",
    "<br>\n",
    "\n",
    "6. 운동\n",
    "    1) 운동 주기와 수면 효율 간 유의미한 차이가 존재한다.\n",
    "    2) 운동 유무와 수면 효율 간 유의미한 차이가 존재한다.\n",
    "    3) 운동 주기와 \"높은\" 수면 효율 간 유의미한 차이가 존재한다.\n",
    "    4) 운동 유무와 \"높은\" 수면 효율 간 유의미한 차이가 존재한다."
   ]
  },
  {
   "cell_type": "markdown",
   "id": "08a9412f-fd76-45c6-a8cf-b283064f81f7",
   "metadata": {},
   "source": [
    "- 취침 시간과 수면 효율은 유의미한 관계를 가지나 어떤 관계를 가지는지 사후 분석이 필요하다\n",
    "- 취침 시간과 0.85 이상의 높은 수면 효율에서는 취침 시간이 이를수록 그 비율이 컸다.\n",
    "- 수면 효율을 높이기 위해서 알코올 섭취를 줄이고, 운동 주기를 늘려야할 것으로 보인다.\n",
    "- 금연 또한 수면 효율을 높이는데 의미가 있지만, 0.85이상의 높은 수면 효율에서는 크게 의미가 없는 것으로 보인다."
   ]
  }
 ],
 "metadata": {
  "kernelspec": {
   "display_name": "Python 3 (ipykernel)",
   "language": "python",
   "name": "python3"
  },
  "language_info": {
   "codemirror_mode": {
    "name": "ipython",
    "version": 3
   },
   "file_extension": ".py",
   "mimetype": "text/x-python",
   "name": "python",
   "nbconvert_exporter": "python",
   "pygments_lexer": "ipython3",
   "version": "3.12.4"
  }
 },
 "nbformat": 4,
 "nbformat_minor": 5
}
