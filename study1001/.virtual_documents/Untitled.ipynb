











import pandas as pd
import numpy as np
import matplotlib.pyplot as plt
import seaborn as sns
import scipy.stats as spst





data = pd.read_csv('Sleep_Efficiency.csv')





# 데이터 상위 5개 확인
data.head()


data.shape


# 데이터 정보 확인
data.info()














data[['Sleep efficiency']].describe()


# 서브 플롯 설정
fig, axs = plt.subplots(1, 2, figsize=(12, 5))

# KDE 플롯
sns.kdeplot(data['Sleep efficiency'], ax=axs[0])
axs[0].set_title('KDE of Sleep Efficiency')
axs[0].set_xlabel('Sleep Efficiency')
axs[0].set_ylabel('Density')

# 0.85 기준선 추가
axs[0].axvline(x=0.85, color='r', linestyle='--', label='0.85 Threshold')
axs[0].legend()

# 박스 플롯
axs[1].boxplot(data['Sleep efficiency'], vert=False)
axs[1].set_title('Boxplot of Sleep Efficiency')
axs[1].set_xlabel('Sleep Efficiency')
axs[1].grid()

# 0.85 기준선 추가
axs[1].axvline(x=0.85, color='r', linestyle='--', label='0.85 Threshold')
axs[1].legend()

# 플롯 표시
plt.tight_layout()
plt.show()









# 범주화
data['High Sleep Efficiency'] = np.where(data['Sleep efficiency']>=0.85,1,0)


data.head()


# 범주 개수 확인
data['High Sleep Efficiency'].value_counts()


# 범주 비율 확인
data['High Sleep Efficiency'].value_counts() / len(data['High Sleep Efficiency'])


sns.countplot(x='High Sleep Efficiency', data=data)
plt.show()








sns.scatterplot( x='Age', y='Sleep efficiency', data = data)
plt.show()





spst.pearsonr(data['Age'], data['Sleep efficiency'])








temp = data[['Age','High Sleep Efficiency']]


# 길어서 target으로 변수 선언
target ='High Sleep Efficiency'


sns.kdeplot(x='Age', data = data, hue =target)
plt.show()


sns.kdeplot(x='Age', data = data, hue = target, multiple = 'fill')
plt.axhline(data[target].mean(), color = 'r')
plt.show()








# 데이터 확인
data['Bedtime']


# object -> datetime
data['Bedtime'] = pd.to_datetime(data['Bedtime'])


data['Bedtime'].info()


# 시간만 추출
data['Time']=data['Bedtime'].dt.time


data['Time']


# 시간대 정렬
sorted_times = sorted(data['Time'], key=lambda x: (x.hour, x.minute, x.second))





# 시간대 분포 확인
sns.countplot(x='Time', data=data, order=sorted_times)
plt.xticks(rotation=45)
plt.show()


# 취침 시간과 수면효율간 관계확인
sns.barplot(x='Time',y='Sleep efficiency',data=data ,order=sorted_times)
plt.xticks(rotation=45)
plt.show()








# 취침 "시간"만 추출
data['Hour']=data['Bedtime'].dt.hour


# 개수 확인
data['Hour'].value_counts()


# 비율 확인
data['Hour'].value_counts()/ len(data['Hour'])


# 시간 순서대로 정렬할 리스트 생성
sorted_hours = [21, 22, 23, 0, 1, 2]


sns.barplot(x='Hour',y='Sleep efficiency',data=data, order=sorted_hours)
plt.xticks(rotation=45)
plt.show()








data[target]


# 취침시간과 수면효율(범주)간 교차표
pd.crosstab(data[target], data['Time'])








# 취침시간과 수면효율(범주)간 교차표
pd.crosstab(data[target], data['Hour'])






























